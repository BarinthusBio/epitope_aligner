{
 "cells": [
  {
   "cell_type": "markdown",
   "metadata": {},
   "source": [
    "# `epitope_aligner` cookbook\n",
    "`epitope_aligner` makes it easy to map epitopes between sequences in an alignment.\n",
    "This lets you combine epitopes from different sources and calculate\n",
    "things like epitope density in a set of proteins.\n",
    "\n",
    "Here we'll go through the available functions in detail. See the quick start guide for a complete example of using these functions together."
   ]
  },
  {
   "cell_type": "markdown",
   "metadata": {},
   "source": [
    "## Contents\n",
    "- [Install](#install)\n",
    "- [Background](#background)\n",
    "    - [The big idea](#the-big-idea)\n",
    "    - [Coordinate system](#coordinate-system)\n",
    "    - [Naming conventions](#naming-conventions)\n",
    "- [`align_coords`](#align-coordinates)\n",
    "- [`unalign_coords`](#unaligning-coordinates)\n",
    "- [`float_epitopes`](#float-epitopes)\n",
    "    - [Alignment accuracy](#alignment-accuracy)\n",
    "- [`locate_epitopes`](#locate-epitopes)\n",
    "- [Analysis](#analysis)\n",
    "    - [`stretch`](#stretch-epitopes)\n",
    "    - [`make_grid`](#epitope-grids)\n",
    "- [Utils](#utils)\n",
    "- [Conclusion](#conclusion)"
   ]
  },
  {
   "cell_type": "markdown",
   "metadata": {},
   "source": [
    "# Install\n",
    "Install directly from github using one of:\n",
    "- `pip install git+https://github.com/Vaccitech/epitope_aligner.git`\n",
    "- `pip install git+git@github.com:Vaccitech/epitope_aligner.git`\n"
   ]
  },
  {
   "cell_type": "markdown",
   "metadata": {
    "vscode": {
     "languageId": "plaintext"
    }
   },
   "source": [
    "# Background\n",
    "## The big idea\n",
    "The position of an epitope in an antigen can be encoded as a number coordinate (start/end position) or as an aligned sequence using gaps to pad the epitope sequence so the amino acids line up. Additionally, the antigen sequence that contains the epitope can be unaligned (no gaps) or aligned. This gives us four alternative ways to describe the position of a single epitope: coordinate in unaligned antigen, coordinate in aligned antigen, epitope sequence aligned to unaligned antigen, and epitope sequence aligned to aligned antigen.\n",
    "\n",
    "Changing between these four types of position is not too complicated, but it is very easy to make a mistake when converting. That's why this package exists, to easily and reliable convert between these position types. The benefit of doing these convertions is to make it easy to combine information from epitopes in multiple related sequences.\n",
    "\n",
    "To do this there are four core functions:\n",
    "- `float_epitopes` converts coordinate to a sequence\n",
    "- `locate_epitope` converts sequence to coordinates\n",
    "- `align_coords` converts coordinate in *un*aligned sequence to coordinate in aligned sequence\n",
    "- `unalign_coords` converts coordinate in aligned sequence to coordinate in *un*aligned sequence\n",
    "\n",
    "By chaining these togther you can get from any position type to any other. For example you can get from coordinates in an *un*aligned sequence to an epitope sequence aligned to an antigen sequence. For this conversion you would use `align_coords` followed by `float_epitopes`."
   ]
  },
  {
   "cell_type": "markdown",
   "metadata": {},
   "source": [
    "## Coordinate system\n",
    "One thing that can make coordinates tricky is that different people count their starts and ends in different ways.\n",
    "\n",
    "To accomodate this we need to know two things:\n",
    "- what we start counting positions from (index)\n",
    "- and do we include the end position in the epitope.\n",
    "\n",
    "Several `epitope_aligner` functions take these as arguments `index` and `includeend`.\n",
    "\n",
    "### `index`\n",
    "Do the position counts start at 0 or 1? If the first position in your protein is 0,\n",
    "that's a zero-index. If the first position is 1, that's a 1-index.\n",
    "\n",
    "Unless you've used zero indexes before, counting from 1 probably seems natural.\n",
    "But lots of programming languages use zero indexes. Luckily, with epitope_aligner you\n",
    "can use either. Just specify `index=0` or `index=1`. IEDB uses a 1-index,\n",
    "whereas normal python sequences use a 0-index.\n",
    "\n",
    "### `includeend`\n",
    "Do you want to include the end position in the epitope? Again it's probably\n",
    "natural for the end coordinate to be the last position in the epitope.\n",
    "But in python when you take a \"slice\" from start to end, you don't include\n",
    "the end position. In `epitope_aligner` functions you can specify whether your end\n",
    "coordinate is inclusive or not with the `includeend` argument which takes\n",
    "`True` or `False`.\n",
    "\n",
    "IEDB do include the end coordinate in the epitope, whereas normal python slicing\n",
    "does not. This means if there is an IEDB epitope \"CDE\" starting at position 3\n",
    "and ending at position 5 (using IEDB coordinates) in sequence \"abCDEfg\", and\n",
    "you ask python to slice position 3:5, you will not get the correct epitope sequence.\n"
   ]
  },
  {
   "cell_type": "code",
   "execution_count": 1,
   "metadata": {},
   "outputs": [
    {
     "data": {
      "text/plain": [
       "'DE'"
      ]
     },
     "execution_count": 1,
     "metadata": {},
     "output_type": "execute_result"
    }
   ],
   "source": [
    "sequence = \"abCDEfg\"\n",
    "start = 3\n",
    "end = 5\n",
    "sequence[start:end]"
   ]
  },
  {
   "cell_type": "markdown",
   "metadata": {},
   "source": [
    "This error happens because in python terms the epitope starts at position 2 (because of the zero-index)\n",
    "and ends at position 5 (because the end position is not included in the epitope)."
   ]
  },
  {
   "cell_type": "code",
   "execution_count": 2,
   "metadata": {},
   "outputs": [
    {
     "data": {
      "text/plain": [
       "'CDE'"
      ]
     },
     "execution_count": 2,
     "metadata": {},
     "output_type": "execute_result"
    }
   ],
   "source": [
    "sequence[2:5]"
   ]
  },
  {
   "cell_type": "markdown",
   "metadata": {},
   "source": [
    "## Naming conventions\n",
    "This package is for handling the positions of epitopes within related antigen sequences. In function arguments `seq` refers to the epitope sequence and `parent_seq` refers to the antigen sequence.\n",
    "\n",
    "If a function requires the sequence or parent sequence to be aligned the argument is `aligned_seq` or `aligned_parent_seq` respectively. Examples of this are `epitope_aligner.map.locate_epitope()` and `epitope_aligner.map.align_coordinates()`."
   ]
  },
  {
   "cell_type": "markdown",
   "metadata": {},
   "source": [
    "# Align coordinates\n",
    "\n",
    "If we're looking at epitopes in several related sequences, we may want to\n",
    "align those sequences and analyse the epitopes in that alignment.\n",
    "To help with this `epitope_aligner` provides `align_coordinates()`,\n",
    "this function converts coordinates in a sequence without gaps to coordinates\n",
    "in a version of the same sequence with gaps.\n",
    "\n",
    "Here's a set of example epitopes with start and end coordinates relative to the unaligned sequence. Note that in this example the coordinates use a zero-index and are not inclusive of the end position."
   ]
  },
  {
   "cell_type": "code",
   "execution_count": 3,
   "metadata": {},
   "outputs": [
    {
     "name": "stdout",
     "output_type": "stream",
     "text": [
      "ABCDFGHIJKLOPSTUVWXYZ\n"
     ]
    },
    {
     "data": {
      "text/html": [
       "<div>\n",
       "<style scoped>\n",
       "    .dataframe tbody tr th:only-of-type {\n",
       "        vertical-align: middle;\n",
       "    }\n",
       "\n",
       "    .dataframe tbody tr th {\n",
       "        vertical-align: top;\n",
       "    }\n",
       "\n",
       "    .dataframe thead th {\n",
       "        text-align: right;\n",
       "    }\n",
       "</style>\n",
       "<table border=\"1\" class=\"dataframe\">\n",
       "  <thead>\n",
       "    <tr style=\"text-align: right;\">\n",
       "      <th></th>\n",
       "      <th>start</th>\n",
       "      <th>end</th>\n",
       "      <th>seq</th>\n",
       "    </tr>\n",
       "  </thead>\n",
       "  <tbody>\n",
       "    <tr>\n",
       "      <th>0</th>\n",
       "      <td>1</td>\n",
       "      <td>4</td>\n",
       "      <td>BCD</td>\n",
       "    </tr>\n",
       "    <tr>\n",
       "      <th>1</th>\n",
       "      <td>4</td>\n",
       "      <td>8</td>\n",
       "      <td>FGHI</td>\n",
       "    </tr>\n",
       "    <tr>\n",
       "      <th>2</th>\n",
       "      <td>7</td>\n",
       "      <td>11</td>\n",
       "      <td>IJKL</td>\n",
       "    </tr>\n",
       "    <tr>\n",
       "      <th>3</th>\n",
       "      <td>10</td>\n",
       "      <td>14</td>\n",
       "      <td>LOPS</td>\n",
       "    </tr>\n",
       "    <tr>\n",
       "      <th>4</th>\n",
       "      <td>9</td>\n",
       "      <td>13</td>\n",
       "      <td>KLOP</td>\n",
       "    </tr>\n",
       "    <tr>\n",
       "      <th>5</th>\n",
       "      <td>11</td>\n",
       "      <td>15</td>\n",
       "      <td>OPST</td>\n",
       "    </tr>\n",
       "    <tr>\n",
       "      <th>6</th>\n",
       "      <td>13</td>\n",
       "      <td>17</td>\n",
       "      <td>STUV</td>\n",
       "    </tr>\n",
       "  </tbody>\n",
       "</table>\n",
       "</div>"
      ],
      "text/plain": [
       "   start  end   seq\n",
       "0      1    4   BCD\n",
       "1      4    8  FGHI\n",
       "2      7   11  IJKL\n",
       "3     10   14  LOPS\n",
       "4      9   13  KLOP\n",
       "5     11   15  OPST\n",
       "6     13   17  STUV"
      ]
     },
     "execution_count": 3,
     "metadata": {},
     "output_type": "execute_result"
    }
   ],
   "source": [
    "import pandas as pd\n",
    "from epitope_aligner import map\n",
    "\n",
    "# The aligned version of our sequence\n",
    "aligned_seq = \"ABCD--FGHIJKL--OP--STUVWXYZ\"\n",
    "# The unaligned version\n",
    "seq = aligned_seq.replace(\"-\",\"\")\n",
    "print(seq)\n",
    "\n",
    "# A table of epitopes in sequence, positions are relative to the\n",
    "# unaligned version\n",
    "epitopes = pd.DataFrame({\n",
    "        'start':[1,     4,      7,      10,     9,      11,     13],\n",
    "        'end':  [4,     8,      11,     14,     13,     15,     17],\n",
    "        'seq':  [\"BCD\", \"FGHI\", \"IJKL\", \"LOPS\", \"KLOP\", \"OPST\", \"STUV\"]\n",
    "})\n",
    "epitopes"
   ]
  },
  {
   "cell_type": "code",
   "execution_count": 4,
   "metadata": {
    "tags": [
     "hidden"
    ]
   },
   "outputs": [],
   "source": [
    "# epitope coords are correct\n",
    "assert all(epitopes.apply(lambda x: seq[x.start:x.end]==x.seq, axis=1))"
   ]
  },
  {
   "cell_type": "markdown",
   "metadata": {},
   "source": [
    "`align_coords()` takes the table of epitopes, the sequence you would\n",
    "like coordinates aligned to, the coordinate column name, and a counting index. It returns the equivalent position in that aligned sequence. We can use this to get the aligned start and end positions."
   ]
  },
  {
   "cell_type": "code",
   "execution_count": 5,
   "metadata": {},
   "outputs": [
    {
     "name": "stdout",
     "output_type": "stream",
     "text": [
      "ABCD--FGHIJKL--OP--STUVWXYZ\n"
     ]
    },
    {
     "data": {
      "text/html": [
       "<div>\n",
       "<style scoped>\n",
       "    .dataframe tbody tr th:only-of-type {\n",
       "        vertical-align: middle;\n",
       "    }\n",
       "\n",
       "    .dataframe tbody tr th {\n",
       "        vertical-align: top;\n",
       "    }\n",
       "\n",
       "    .dataframe thead th {\n",
       "        text-align: right;\n",
       "    }\n",
       "</style>\n",
       "<table border=\"1\" class=\"dataframe\">\n",
       "  <thead>\n",
       "    <tr style=\"text-align: right;\">\n",
       "      <th></th>\n",
       "      <th>start</th>\n",
       "      <th>end</th>\n",
       "      <th>seq</th>\n",
       "      <th>newstart</th>\n",
       "      <th>newend</th>\n",
       "    </tr>\n",
       "  </thead>\n",
       "  <tbody>\n",
       "    <tr>\n",
       "      <th>0</th>\n",
       "      <td>1</td>\n",
       "      <td>4</td>\n",
       "      <td>BCD</td>\n",
       "      <td>1</td>\n",
       "      <td>6</td>\n",
       "    </tr>\n",
       "    <tr>\n",
       "      <th>1</th>\n",
       "      <td>4</td>\n",
       "      <td>8</td>\n",
       "      <td>FGHI</td>\n",
       "      <td>6</td>\n",
       "      <td>10</td>\n",
       "    </tr>\n",
       "    <tr>\n",
       "      <th>2</th>\n",
       "      <td>7</td>\n",
       "      <td>11</td>\n",
       "      <td>IJKL</td>\n",
       "      <td>9</td>\n",
       "      <td>15</td>\n",
       "    </tr>\n",
       "    <tr>\n",
       "      <th>3</th>\n",
       "      <td>10</td>\n",
       "      <td>14</td>\n",
       "      <td>LOPS</td>\n",
       "      <td>12</td>\n",
       "      <td>20</td>\n",
       "    </tr>\n",
       "    <tr>\n",
       "      <th>4</th>\n",
       "      <td>9</td>\n",
       "      <td>13</td>\n",
       "      <td>KLOP</td>\n",
       "      <td>11</td>\n",
       "      <td>19</td>\n",
       "    </tr>\n",
       "    <tr>\n",
       "      <th>5</th>\n",
       "      <td>11</td>\n",
       "      <td>15</td>\n",
       "      <td>OPST</td>\n",
       "      <td>15</td>\n",
       "      <td>21</td>\n",
       "    </tr>\n",
       "    <tr>\n",
       "      <th>6</th>\n",
       "      <td>13</td>\n",
       "      <td>17</td>\n",
       "      <td>STUV</td>\n",
       "      <td>19</td>\n",
       "      <td>23</td>\n",
       "    </tr>\n",
       "  </tbody>\n",
       "</table>\n",
       "</div>"
      ],
      "text/plain": [
       "   start  end   seq  newstart  newend\n",
       "0      1    4   BCD         1       6\n",
       "1      4    8  FGHI         6      10\n",
       "2      7   11  IJKL         9      15\n",
       "3     10   14  LOPS        12      20\n",
       "4      9   13  KLOP        11      19\n",
       "5     11   15  OPST        15      21\n",
       "6     13   17  STUV        19      23"
      ]
     },
     "execution_count": 5,
     "metadata": {},
     "output_type": "execute_result"
    }
   ],
   "source": [
    "epitopes['newstart'] = map.align_coords(\n",
    "    table = epitopes,\n",
    "    aligned_parent_seq = aligned_seq,\n",
    "    coord_col = \"start\",\n",
    "    index = 0\n",
    ")\n",
    "epitopes['newend'] = map.align_coords(\n",
    "    table = epitopes,\n",
    "    aligned_parent_seq = aligned_seq,\n",
    "    coord_col = \"end\",\n",
    "    index = 0\n",
    ")\n",
    "print(aligned_seq)\n",
    "epitopes"
   ]
  },
  {
   "cell_type": "markdown",
   "metadata": {},
   "source": [
    "We can verify that the new positions are correct by slicing these\n",
    "new coordinates from the `aligned_seq`. Note that python slicing\n",
    "uses a zero index, and does not include the end index. Our example\n",
    "positions follow this form, but if you are using a different index\n",
    "and/or including the end index, you will have to account for this\n",
    "in your slicing."
   ]
  },
  {
   "cell_type": "code",
   "execution_count": 6,
   "metadata": {},
   "outputs": [
    {
     "data": {
      "text/html": [
       "<div>\n",
       "<style scoped>\n",
       "    .dataframe tbody tr th:only-of-type {\n",
       "        vertical-align: middle;\n",
       "    }\n",
       "\n",
       "    .dataframe tbody tr th {\n",
       "        vertical-align: top;\n",
       "    }\n",
       "\n",
       "    .dataframe thead th {\n",
       "        text-align: right;\n",
       "    }\n",
       "</style>\n",
       "<table border=\"1\" class=\"dataframe\">\n",
       "  <thead>\n",
       "    <tr style=\"text-align: right;\">\n",
       "      <th></th>\n",
       "      <th>seq</th>\n",
       "      <th>aligned_seq</th>\n",
       "    </tr>\n",
       "  </thead>\n",
       "  <tbody>\n",
       "    <tr>\n",
       "      <th>0</th>\n",
       "      <td>BCD</td>\n",
       "      <td>BCD--</td>\n",
       "    </tr>\n",
       "    <tr>\n",
       "      <th>1</th>\n",
       "      <td>FGHI</td>\n",
       "      <td>FGHI</td>\n",
       "    </tr>\n",
       "    <tr>\n",
       "      <th>2</th>\n",
       "      <td>IJKL</td>\n",
       "      <td>IJKL--</td>\n",
       "    </tr>\n",
       "    <tr>\n",
       "      <th>3</th>\n",
       "      <td>LOPS</td>\n",
       "      <td>L--OP--S</td>\n",
       "    </tr>\n",
       "    <tr>\n",
       "      <th>4</th>\n",
       "      <td>KLOP</td>\n",
       "      <td>KL--OP--</td>\n",
       "    </tr>\n",
       "    <tr>\n",
       "      <th>5</th>\n",
       "      <td>OPST</td>\n",
       "      <td>OP--ST</td>\n",
       "    </tr>\n",
       "    <tr>\n",
       "      <th>6</th>\n",
       "      <td>STUV</td>\n",
       "      <td>STUV</td>\n",
       "    </tr>\n",
       "  </tbody>\n",
       "</table>\n",
       "</div>"
      ],
      "text/plain": [
       "    seq aligned_seq\n",
       "0   BCD       BCD--\n",
       "1  FGHI        FGHI\n",
       "2  IJKL      IJKL--\n",
       "3  LOPS    L--OP--S\n",
       "4  KLOP    KL--OP--\n",
       "5  OPST      OP--ST\n",
       "6  STUV        STUV"
      ]
     },
     "execution_count": 6,
     "metadata": {},
     "output_type": "execute_result"
    }
   ],
   "source": [
    "epitopes['aligned_seq'] = epitopes.apply(lambda x: aligned_seq[x.newstart:x.newend], axis=1)\n",
    "epitopes[['seq','aligned_seq']]"
   ]
  },
  {
   "cell_type": "markdown",
   "metadata": {},
   "source": [
    "In the above example all of the epitopes are from the same antigen, but what if the epitopes are from different antigens? To solve that we need a column saying which antigen each epitope is from and a dictionary of sequences.\n",
    "\n",
    "Let's work through an example, and this time our example data will use a 1 index and coordinates will include the end. Therefore if you do any python slicing with these example coordinates you have to adjust them first, see [coordinate system](#coordinate-system) for more details."
   ]
  },
  {
   "cell_type": "code",
   "execution_count": 7,
   "metadata": {},
   "outputs": [
    {
     "data": {
      "text/html": [
       "<div>\n",
       "<style scoped>\n",
       "    .dataframe tbody tr th:only-of-type {\n",
       "        vertical-align: middle;\n",
       "    }\n",
       "\n",
       "    .dataframe tbody tr th {\n",
       "        vertical-align: top;\n",
       "    }\n",
       "\n",
       "    .dataframe thead th {\n",
       "        text-align: right;\n",
       "    }\n",
       "</style>\n",
       "<table border=\"1\" class=\"dataframe\">\n",
       "  <thead>\n",
       "    <tr style=\"text-align: right;\">\n",
       "      <th></th>\n",
       "      <th>start</th>\n",
       "      <th>end</th>\n",
       "      <th>seq</th>\n",
       "      <th>parent</th>\n",
       "    </tr>\n",
       "  </thead>\n",
       "  <tbody>\n",
       "    <tr>\n",
       "      <th>0</th>\n",
       "      <td>2</td>\n",
       "      <td>4</td>\n",
       "      <td>BCD</td>\n",
       "      <td>seq1</td>\n",
       "    </tr>\n",
       "    <tr>\n",
       "      <th>1</th>\n",
       "      <td>6</td>\n",
       "      <td>9</td>\n",
       "      <td>FGHI</td>\n",
       "      <td>seq1</td>\n",
       "    </tr>\n",
       "    <tr>\n",
       "      <th>2</th>\n",
       "      <td>9</td>\n",
       "      <td>12</td>\n",
       "      <td>IJKL</td>\n",
       "      <td>seq1</td>\n",
       "    </tr>\n",
       "    <tr>\n",
       "      <th>0</th>\n",
       "      <td>2</td>\n",
       "      <td>5</td>\n",
       "      <td>OPQR</td>\n",
       "      <td>seq2</td>\n",
       "    </tr>\n",
       "    <tr>\n",
       "      <th>1</th>\n",
       "      <td>5</td>\n",
       "      <td>7</td>\n",
       "      <td>RST</td>\n",
       "      <td>seq2</td>\n",
       "    </tr>\n",
       "    <tr>\n",
       "      <th>2</th>\n",
       "      <td>8</td>\n",
       "      <td>10</td>\n",
       "      <td>UVW</td>\n",
       "      <td>seq2</td>\n",
       "    </tr>\n",
       "    <tr>\n",
       "      <th>3</th>\n",
       "      <td>10</td>\n",
       "      <td>13</td>\n",
       "      <td>WXYZ</td>\n",
       "      <td>seq2</td>\n",
       "    </tr>\n",
       "  </tbody>\n",
       "</table>\n",
       "</div>"
      ],
      "text/plain": [
       "   start  end   seq parent\n",
       "0      2    4   BCD   seq1\n",
       "1      6    9  FGHI   seq1\n",
       "2      9   12  IJKL   seq1\n",
       "0      2    5  OPQR   seq2\n",
       "1      5    7   RST   seq2\n",
       "2      8   10   UVW   seq2\n",
       "3     10   13  WXYZ   seq2"
      ]
     },
     "execution_count": 7,
     "metadata": {},
     "output_type": "execute_result"
    }
   ],
   "source": [
    "# Two different aligned sequences\n",
    "aligned_sequence1 = \"ABC---DEFGH-IJK--LM\"\n",
    "aligned_sequence2 = \"NO-PQR--STUVW-XYZ\"\n",
    "\n",
    "epitopes1 = pd.DataFrame({\n",
    "        'start':  [2,      6,      9],\n",
    "        'end':    [4,      9,      12],\n",
    "        'seq':    [\"BCD\",  \"FGHI\", \"IJKL\"],\n",
    "        \"parent\": [\"seq1\", \"seq1\", \"seq1\"]\n",
    "})\n",
    "epitopes2 = pd.DataFrame({\n",
    "        'start':  [2,      5,        8,      10],\n",
    "        'end':    [5,      7,        10,     13],\n",
    "        'seq':    [\"OPQR\", \"RST\",    \"UVW\",  \"WXYZ\"],\n",
    "        \"parent\": [\"seq2\", \"seq2\",   \"seq2\", \"seq2\"]\n",
    "})\n",
    "\n",
    "epitopes = pd.concat([epitopes1, epitopes2])\n",
    "epitopes"
   ]
  },
  {
   "cell_type": "code",
   "execution_count": 8,
   "metadata": {
    "tags": [
     "hidden"
    ]
   },
   "outputs": [],
   "source": [
    "seq1 = aligned_sequence1.replace(\"-\",\"\")\n",
    "seq2 = aligned_sequence2.replace(\"-\",\"\")\n",
    "# epitope coords are correct\n",
    "assert all(epitopes1.apply(lambda x: seq1[x.start-1:x.end-1+1]==x.seq, axis=1))\n",
    "assert all(epitopes2.apply(lambda x: seq2[x.start-1:x.end-1+1]==x.seq, axis=1))"
   ]
  },
  {
   "cell_type": "markdown",
   "metadata": {},
   "source": [
    "Next we need a dictionary to map the name in the `parent` column to the parent sequence."
   ]
  },
  {
   "cell_type": "code",
   "execution_count": 9,
   "metadata": {},
   "outputs": [
    {
     "name": "stdout",
     "output_type": "stream",
     "text": [
      "{'seq1': 'ABC---DEFGH-IJK--LM', 'seq2': 'NO-PQR--STUVW-XYZ'}\n"
     ]
    }
   ],
   "source": [
    "parent_sequences = {\n",
    "    'seq1': aligned_sequence1,\n",
    "    'seq2': aligned_sequence2\n",
    "}\n",
    "print(parent_sequences)"
   ]
  },
  {
   "cell_type": "markdown",
   "metadata": {},
   "source": [
    "Now we have our example data set up, a table of epitopes from different antigens and a dictionary of those antigens, we can call `align_coords`. The function call is very similar but we also include `parent_col` and we pass the dictionary as `aligned_parent_seq` rather than passing a sequence directly."
   ]
  },
  {
   "cell_type": "code",
   "execution_count": 10,
   "metadata": {},
   "outputs": [
    {
     "name": "stdout",
     "output_type": "stream",
     "text": [
      "seq1: ABC---DEFGH-IJK--LM\n",
      "seq2: NO-PQR--STUVW-XYZ\n"
     ]
    },
    {
     "data": {
      "text/html": [
       "<div>\n",
       "<style scoped>\n",
       "    .dataframe tbody tr th:only-of-type {\n",
       "        vertical-align: middle;\n",
       "    }\n",
       "\n",
       "    .dataframe tbody tr th {\n",
       "        vertical-align: top;\n",
       "    }\n",
       "\n",
       "    .dataframe thead th {\n",
       "        text-align: right;\n",
       "    }\n",
       "</style>\n",
       "<table border=\"1\" class=\"dataframe\">\n",
       "  <thead>\n",
       "    <tr style=\"text-align: right;\">\n",
       "      <th></th>\n",
       "      <th>start</th>\n",
       "      <th>end</th>\n",
       "      <th>seq</th>\n",
       "      <th>parent</th>\n",
       "      <th>newstart</th>\n",
       "      <th>newend</th>\n",
       "    </tr>\n",
       "  </thead>\n",
       "  <tbody>\n",
       "    <tr>\n",
       "      <th>0</th>\n",
       "      <td>2</td>\n",
       "      <td>4</td>\n",
       "      <td>BCD</td>\n",
       "      <td>seq1</td>\n",
       "      <td>2</td>\n",
       "      <td>7</td>\n",
       "    </tr>\n",
       "    <tr>\n",
       "      <th>1</th>\n",
       "      <td>6</td>\n",
       "      <td>9</td>\n",
       "      <td>FGHI</td>\n",
       "      <td>seq1</td>\n",
       "      <td>9</td>\n",
       "      <td>13</td>\n",
       "    </tr>\n",
       "    <tr>\n",
       "      <th>2</th>\n",
       "      <td>9</td>\n",
       "      <td>12</td>\n",
       "      <td>IJKL</td>\n",
       "      <td>seq1</td>\n",
       "      <td>13</td>\n",
       "      <td>18</td>\n",
       "    </tr>\n",
       "    <tr>\n",
       "      <th>0</th>\n",
       "      <td>2</td>\n",
       "      <td>5</td>\n",
       "      <td>OPQR</td>\n",
       "      <td>seq2</td>\n",
       "      <td>2</td>\n",
       "      <td>6</td>\n",
       "    </tr>\n",
       "    <tr>\n",
       "      <th>1</th>\n",
       "      <td>5</td>\n",
       "      <td>7</td>\n",
       "      <td>RST</td>\n",
       "      <td>seq2</td>\n",
       "      <td>6</td>\n",
       "      <td>10</td>\n",
       "    </tr>\n",
       "    <tr>\n",
       "      <th>2</th>\n",
       "      <td>8</td>\n",
       "      <td>10</td>\n",
       "      <td>UVW</td>\n",
       "      <td>seq2</td>\n",
       "      <td>11</td>\n",
       "      <td>13</td>\n",
       "    </tr>\n",
       "    <tr>\n",
       "      <th>3</th>\n",
       "      <td>10</td>\n",
       "      <td>13</td>\n",
       "      <td>WXYZ</td>\n",
       "      <td>seq2</td>\n",
       "      <td>13</td>\n",
       "      <td>17</td>\n",
       "    </tr>\n",
       "  </tbody>\n",
       "</table>\n",
       "</div>"
      ],
      "text/plain": [
       "   start  end   seq parent  newstart  newend\n",
       "0      2    4   BCD   seq1         2       7\n",
       "1      6    9  FGHI   seq1         9      13\n",
       "2      9   12  IJKL   seq1        13      18\n",
       "0      2    5  OPQR   seq2         2       6\n",
       "1      5    7   RST   seq2         6      10\n",
       "2      8   10   UVW   seq2        11      13\n",
       "3     10   13  WXYZ   seq2        13      17"
      ]
     },
     "execution_count": 10,
     "metadata": {},
     "output_type": "execute_result"
    }
   ],
   "source": [
    "epitopes['newstart'] = map.align_coords(\n",
    "    table= epitopes,\n",
    "    aligned_parent_seq= parent_sequences,\n",
    "    coord_col= \"start\",\n",
    "    parent_col= \"parent\",\n",
    "    index=1\n",
    ")\n",
    "epitopes['newend'] = map.align_coords(\n",
    "    table= epitopes,\n",
    "    aligned_parent_seq= parent_sequences,\n",
    "    coord_col= \"end\",\n",
    "    parent_col= \"parent\",\n",
    "    index=1\n",
    ")\n",
    "print(f\"seq1: {aligned_sequence1}\")\n",
    "print(f\"seq2: {aligned_sequence2}\")\n",
    "epitopes"
   ]
  },
  {
   "cell_type": "markdown",
   "metadata": {},
   "source": [
    "# Unaligning coordinates\n",
    "You may want to go in the opposite direction, take coordinates in an aligned sequence and convert them to coordinates in the *un*aligned sequence. We do this with `unalign_coords()`. In this example our coordinates use a zero-index and the end is non-inclusive, see [coordinate system](#coordinate-system) for more details."
   ]
  },
  {
   "cell_type": "code",
   "execution_count": 11,
   "metadata": {},
   "outputs": [
    {
     "name": "stdout",
     "output_type": "stream",
     "text": [
      "ABCD--FGHIJKL--OP--STUVWXYZ\n"
     ]
    },
    {
     "data": {
      "text/html": [
       "<div>\n",
       "<style scoped>\n",
       "    .dataframe tbody tr th:only-of-type {\n",
       "        vertical-align: middle;\n",
       "    }\n",
       "\n",
       "    .dataframe tbody tr th {\n",
       "        vertical-align: top;\n",
       "    }\n",
       "\n",
       "    .dataframe thead th {\n",
       "        text-align: right;\n",
       "    }\n",
       "</style>\n",
       "<table border=\"1\" class=\"dataframe\">\n",
       "  <thead>\n",
       "    <tr style=\"text-align: right;\">\n",
       "      <th></th>\n",
       "      <th>aligned_start</th>\n",
       "      <th>aligned_end</th>\n",
       "      <th>seq</th>\n",
       "    </tr>\n",
       "  </thead>\n",
       "  <tbody>\n",
       "    <tr>\n",
       "      <th>0</th>\n",
       "      <td>1</td>\n",
       "      <td>6</td>\n",
       "      <td>BCD</td>\n",
       "    </tr>\n",
       "    <tr>\n",
       "      <th>1</th>\n",
       "      <td>6</td>\n",
       "      <td>10</td>\n",
       "      <td>FGHI</td>\n",
       "    </tr>\n",
       "    <tr>\n",
       "      <th>2</th>\n",
       "      <td>12</td>\n",
       "      <td>20</td>\n",
       "      <td>LOPS</td>\n",
       "    </tr>\n",
       "    <tr>\n",
       "      <th>3</th>\n",
       "      <td>11</td>\n",
       "      <td>19</td>\n",
       "      <td>KLOP</td>\n",
       "    </tr>\n",
       "    <tr>\n",
       "      <th>4</th>\n",
       "      <td>15</td>\n",
       "      <td>21</td>\n",
       "      <td>OPST</td>\n",
       "    </tr>\n",
       "    <tr>\n",
       "      <th>5</th>\n",
       "      <td>19</td>\n",
       "      <td>23</td>\n",
       "      <td>STUV</td>\n",
       "    </tr>\n",
       "  </tbody>\n",
       "</table>\n",
       "</div>"
      ],
      "text/plain": [
       "   aligned_start  aligned_end   seq\n",
       "0              1            6   BCD\n",
       "1              6           10  FGHI\n",
       "2             12           20  LOPS\n",
       "3             11           19  KLOP\n",
       "4             15           21  OPST\n",
       "5             19           23  STUV"
      ]
     },
     "execution_count": 11,
     "metadata": {},
     "output_type": "execute_result"
    }
   ],
   "source": [
    "import pandas as pd\n",
    "from epitope_aligner import map\n",
    "\n",
    "# The aligned version of our sequence\n",
    "aligned_seq = \"ABCD--FGHIJKL--OP--STUVWXYZ\"\n",
    "print(aligned_seq)\n",
    "\n",
    "# A table of epitopes in sequence, positions are relative to the\n",
    "# aligned version\n",
    "epitopes = pd.DataFrame({\n",
    "        'aligned_start':[1,     6,      12,     11,     15,     19],\n",
    "        'aligned_end':  [6,     10,     20,     19,     21,     23],\n",
    "        'seq':          [\"BCD\", \"FGHI\", \"LOPS\", \"KLOP\", \"OPST\", \"STUV\"]\n",
    "})\n",
    "epitopes"
   ]
  },
  {
   "cell_type": "code",
   "execution_count": 12,
   "metadata": {},
   "outputs": [
    {
     "data": {
      "text/html": [
       "<div>\n",
       "<style scoped>\n",
       "    .dataframe tbody tr th:only-of-type {\n",
       "        vertical-align: middle;\n",
       "    }\n",
       "\n",
       "    .dataframe tbody tr th {\n",
       "        vertical-align: top;\n",
       "    }\n",
       "\n",
       "    .dataframe thead th {\n",
       "        text-align: right;\n",
       "    }\n",
       "</style>\n",
       "<table border=\"1\" class=\"dataframe\">\n",
       "  <thead>\n",
       "    <tr style=\"text-align: right;\">\n",
       "      <th></th>\n",
       "      <th>aligned_start</th>\n",
       "      <th>aligned_end</th>\n",
       "      <th>seq</th>\n",
       "      <th>unaligned_start</th>\n",
       "      <th>unaligned_end</th>\n",
       "    </tr>\n",
       "  </thead>\n",
       "  <tbody>\n",
       "    <tr>\n",
       "      <th>0</th>\n",
       "      <td>1</td>\n",
       "      <td>6</td>\n",
       "      <td>BCD</td>\n",
       "      <td>1</td>\n",
       "      <td>4</td>\n",
       "    </tr>\n",
       "    <tr>\n",
       "      <th>1</th>\n",
       "      <td>6</td>\n",
       "      <td>10</td>\n",
       "      <td>FGHI</td>\n",
       "      <td>4</td>\n",
       "      <td>8</td>\n",
       "    </tr>\n",
       "    <tr>\n",
       "      <th>2</th>\n",
       "      <td>12</td>\n",
       "      <td>20</td>\n",
       "      <td>LOPS</td>\n",
       "      <td>10</td>\n",
       "      <td>14</td>\n",
       "    </tr>\n",
       "    <tr>\n",
       "      <th>3</th>\n",
       "      <td>11</td>\n",
       "      <td>19</td>\n",
       "      <td>KLOP</td>\n",
       "      <td>9</td>\n",
       "      <td>13</td>\n",
       "    </tr>\n",
       "    <tr>\n",
       "      <th>4</th>\n",
       "      <td>15</td>\n",
       "      <td>21</td>\n",
       "      <td>OPST</td>\n",
       "      <td>11</td>\n",
       "      <td>15</td>\n",
       "    </tr>\n",
       "    <tr>\n",
       "      <th>5</th>\n",
       "      <td>19</td>\n",
       "      <td>23</td>\n",
       "      <td>STUV</td>\n",
       "      <td>13</td>\n",
       "      <td>17</td>\n",
       "    </tr>\n",
       "  </tbody>\n",
       "</table>\n",
       "</div>"
      ],
      "text/plain": [
       "   aligned_start  aligned_end   seq  unaligned_start  unaligned_end\n",
       "0              1            6   BCD                1              4\n",
       "1              6           10  FGHI                4              8\n",
       "2             12           20  LOPS               10             14\n",
       "3             11           19  KLOP                9             13\n",
       "4             15           21  OPST               11             15\n",
       "5             19           23  STUV               13             17"
      ]
     },
     "execution_count": 12,
     "metadata": {},
     "output_type": "execute_result"
    }
   ],
   "source": [
    "epitopes['unaligned_start'] = map.unalign_coords(\n",
    "    table=epitopes,\n",
    "    aligned_parent_seq=aligned_seq,\n",
    "    coord_col=\"aligned_start\",\n",
    "    index=0\n",
    ")\n",
    "epitopes['unaligned_end'] = map.unalign_coords(\n",
    "    table=epitopes,\n",
    "    aligned_parent_seq=aligned_seq,\n",
    "    coord_col=\"aligned_end\",\n",
    "    index=0\n",
    ")\n",
    "epitopes"
   ]
  },
  {
   "cell_type": "code",
   "execution_count": 13,
   "metadata": {
    "tags": [
     "hidden"
    ]
   },
   "outputs": [],
   "source": [
    "# The unaligned version\n",
    "seq = aligned_seq.replace(\"-\",\"\")\n",
    "assert all(epitopes.apply(lambda x: seq[x['unaligned_start']:x['unaligned_end']], axis=1) == epitopes.seq)"
   ]
  },
  {
   "cell_type": "markdown",
   "metadata": {},
   "source": [
    "As with the other `epitope_aligner` functions we can unalign coordinates for mulitple epitopes in multiple antigens at the same time. We need a column to identify the parent sequence of each epitope and a dictionary of those parent sequences. The values in the parent column should be the keys to get the correct sequence from the dictionary."
   ]
  },
  {
   "cell_type": "code",
   "execution_count": 14,
   "metadata": {},
   "outputs": [
    {
     "name": "stdout",
     "output_type": "stream",
     "text": [
      "{'seq1': 'ABC---DEFGH-IJK--LM', 'seq2': 'NO-PQR--STUVW-XYZ'}\n"
     ]
    },
    {
     "data": {
      "text/html": [
       "<div>\n",
       "<style scoped>\n",
       "    .dataframe tbody tr th:only-of-type {\n",
       "        vertical-align: middle;\n",
       "    }\n",
       "\n",
       "    .dataframe tbody tr th {\n",
       "        vertical-align: top;\n",
       "    }\n",
       "\n",
       "    .dataframe thead th {\n",
       "        text-align: right;\n",
       "    }\n",
       "</style>\n",
       "<table border=\"1\" class=\"dataframe\">\n",
       "  <thead>\n",
       "    <tr style=\"text-align: right;\">\n",
       "      <th></th>\n",
       "      <th>aligned_start</th>\n",
       "      <th>aligned_end</th>\n",
       "      <th>seq</th>\n",
       "      <th>parent</th>\n",
       "    </tr>\n",
       "  </thead>\n",
       "  <tbody>\n",
       "    <tr>\n",
       "      <th>0</th>\n",
       "      <td>1</td>\n",
       "      <td>7</td>\n",
       "      <td>BCD</td>\n",
       "      <td>seq1</td>\n",
       "    </tr>\n",
       "    <tr>\n",
       "      <th>1</th>\n",
       "      <td>8</td>\n",
       "      <td>13</td>\n",
       "      <td>FGHI</td>\n",
       "      <td>seq1</td>\n",
       "    </tr>\n",
       "    <tr>\n",
       "      <th>2</th>\n",
       "      <td>12</td>\n",
       "      <td>18</td>\n",
       "      <td>IJKL</td>\n",
       "      <td>seq1</td>\n",
       "    </tr>\n",
       "    <tr>\n",
       "      <th>0</th>\n",
       "      <td>1</td>\n",
       "      <td>8</td>\n",
       "      <td>OPQR</td>\n",
       "      <td>seq2</td>\n",
       "    </tr>\n",
       "    <tr>\n",
       "      <th>1</th>\n",
       "      <td>5</td>\n",
       "      <td>10</td>\n",
       "      <td>RST</td>\n",
       "      <td>seq2</td>\n",
       "    </tr>\n",
       "    <tr>\n",
       "      <th>2</th>\n",
       "      <td>10</td>\n",
       "      <td>14</td>\n",
       "      <td>UVW</td>\n",
       "      <td>seq2</td>\n",
       "    </tr>\n",
       "    <tr>\n",
       "      <th>3</th>\n",
       "      <td>12</td>\n",
       "      <td>17</td>\n",
       "      <td>WXYZ</td>\n",
       "      <td>seq2</td>\n",
       "    </tr>\n",
       "  </tbody>\n",
       "</table>\n",
       "</div>"
      ],
      "text/plain": [
       "   aligned_start  aligned_end   seq parent\n",
       "0              1            7   BCD   seq1\n",
       "1              8           13  FGHI   seq1\n",
       "2             12           18  IJKL   seq1\n",
       "0              1            8  OPQR   seq2\n",
       "1              5           10   RST   seq2\n",
       "2             10           14   UVW   seq2\n",
       "3             12           17  WXYZ   seq2"
      ]
     },
     "execution_count": 14,
     "metadata": {},
     "output_type": "execute_result"
    }
   ],
   "source": [
    "# Two different aligned sequences\n",
    "aligned_sequence1 = \"ABC---DEFGH-IJK--LM\"\n",
    "aligned_sequence2 = \"NO-PQR--STUVW-XYZ\"\n",
    "\n",
    "aligned_parent_seqs = {\n",
    "    'seq1': aligned_sequence1,\n",
    "    'seq2': aligned_sequence2\n",
    "}\n",
    "print(aligned_parent_seqs)\n",
    "\n",
    "epitopes1 = pd.DataFrame({\n",
    "        'aligned_start':  [1,      8,      12],\n",
    "        'aligned_end':    [7,      13,      18],\n",
    "        'seq':    [\"BCD\",  \"FGHI\", \"IJKL\"],\n",
    "        \"parent\": [\"seq1\", \"seq1\", \"seq1\"]\n",
    "})\n",
    "epitopes2 = pd.DataFrame({\n",
    "        'aligned_start':  [1,      5,        10,      12],\n",
    "        'aligned_end':    [8,      10,        14,     17],\n",
    "        'seq':    [\"OPQR\", \"RST\",    \"UVW\",  \"WXYZ\"],\n",
    "        \"parent\": [\"seq2\", \"seq2\",   \"seq2\", \"seq2\"]\n",
    "})\n",
    "\n",
    "epitopes = pd.concat([epitopes1, epitopes2])\n",
    "epitopes"
   ]
  },
  {
   "cell_type": "code",
   "execution_count": 15,
   "metadata": {},
   "outputs": [
    {
     "data": {
      "text/html": [
       "<div>\n",
       "<style scoped>\n",
       "    .dataframe tbody tr th:only-of-type {\n",
       "        vertical-align: middle;\n",
       "    }\n",
       "\n",
       "    .dataframe tbody tr th {\n",
       "        vertical-align: top;\n",
       "    }\n",
       "\n",
       "    .dataframe thead th {\n",
       "        text-align: right;\n",
       "    }\n",
       "</style>\n",
       "<table border=\"1\" class=\"dataframe\">\n",
       "  <thead>\n",
       "    <tr style=\"text-align: right;\">\n",
       "      <th></th>\n",
       "      <th>aligned_start</th>\n",
       "      <th>aligned_end</th>\n",
       "      <th>seq</th>\n",
       "      <th>parent</th>\n",
       "      <th>start</th>\n",
       "      <th>end</th>\n",
       "    </tr>\n",
       "  </thead>\n",
       "  <tbody>\n",
       "    <tr>\n",
       "      <th>0</th>\n",
       "      <td>1</td>\n",
       "      <td>7</td>\n",
       "      <td>BCD</td>\n",
       "      <td>seq1</td>\n",
       "      <td>1</td>\n",
       "      <td>4</td>\n",
       "    </tr>\n",
       "    <tr>\n",
       "      <th>1</th>\n",
       "      <td>8</td>\n",
       "      <td>13</td>\n",
       "      <td>FGHI</td>\n",
       "      <td>seq1</td>\n",
       "      <td>5</td>\n",
       "      <td>9</td>\n",
       "    </tr>\n",
       "    <tr>\n",
       "      <th>2</th>\n",
       "      <td>12</td>\n",
       "      <td>18</td>\n",
       "      <td>IJKL</td>\n",
       "      <td>seq1</td>\n",
       "      <td>8</td>\n",
       "      <td>12</td>\n",
       "    </tr>\n",
       "    <tr>\n",
       "      <th>0</th>\n",
       "      <td>1</td>\n",
       "      <td>8</td>\n",
       "      <td>OPQR</td>\n",
       "      <td>seq2</td>\n",
       "      <td>1</td>\n",
       "      <td>5</td>\n",
       "    </tr>\n",
       "    <tr>\n",
       "      <th>1</th>\n",
       "      <td>5</td>\n",
       "      <td>10</td>\n",
       "      <td>RST</td>\n",
       "      <td>seq2</td>\n",
       "      <td>4</td>\n",
       "      <td>7</td>\n",
       "    </tr>\n",
       "    <tr>\n",
       "      <th>2</th>\n",
       "      <td>10</td>\n",
       "      <td>14</td>\n",
       "      <td>UVW</td>\n",
       "      <td>seq2</td>\n",
       "      <td>7</td>\n",
       "      <td>10</td>\n",
       "    </tr>\n",
       "    <tr>\n",
       "      <th>3</th>\n",
       "      <td>12</td>\n",
       "      <td>17</td>\n",
       "      <td>WXYZ</td>\n",
       "      <td>seq2</td>\n",
       "      <td>9</td>\n",
       "      <td>13</td>\n",
       "    </tr>\n",
       "  </tbody>\n",
       "</table>\n",
       "</div>"
      ],
      "text/plain": [
       "   aligned_start  aligned_end   seq parent  start  end\n",
       "0              1            7   BCD   seq1      1    4\n",
       "1              8           13  FGHI   seq1      5    9\n",
       "2             12           18  IJKL   seq1      8   12\n",
       "0              1            8  OPQR   seq2      1    5\n",
       "1              5           10   RST   seq2      4    7\n",
       "2             10           14   UVW   seq2      7   10\n",
       "3             12           17  WXYZ   seq2      9   13"
      ]
     },
     "execution_count": 15,
     "metadata": {},
     "output_type": "execute_result"
    }
   ],
   "source": [
    "epitopes['start'] = map.unalign_coords(\n",
    "    table=epitopes,\n",
    "    aligned_parent_seq=aligned_parent_seqs,\n",
    "    coord_col=\"aligned_start\",\n",
    "    parent_col=\"parent\",\n",
    "    index=0\n",
    ")\n",
    "epitopes['end'] = map.unalign_coords(\n",
    "    table=epitopes,\n",
    "    aligned_parent_seq=aligned_parent_seqs,\n",
    "    coord_col=\"aligned_end\",\n",
    "    parent_col=\"parent\",\n",
    "    index=0\n",
    ")\n",
    "epitopes"
   ]
  },
  {
   "cell_type": "code",
   "execution_count": 16,
   "metadata": {
    "tags": [
     "hidden"
    ]
   },
   "outputs": [],
   "source": [
    "assert all(epitopes.apply(lambda x: aligned_parent_seqs[x.parent].replace(\"-\",\"\")[x.start:x.end]==x.seq, axis=1))"
   ]
  },
  {
   "cell_type": "markdown",
   "metadata": {},
   "source": [
    "One complexity that you may run into is the coordinates of gaps in an unaligned sequence. This doesn't really make sense since there are no gaps in an unaligned sequence, so why might you try it? The coordinate defining the end of your epitope could be a gap if your epitope is immediately followed by a gap and your coordinate system doesn't include the end position.\n",
    "\n",
    "For example in the sequence `ABC--D` the epitope `ABC` starts at `0` and ends at `3` (If we use a zero index and do not include the end: `index=0` `includeend=False`). But the amino acid at the end position is a gap."
   ]
  },
  {
   "cell_type": "code",
   "execution_count": 17,
   "metadata": {},
   "outputs": [
    {
     "name": "stdout",
     "output_type": "stream",
     "text": [
      "Epitope sequence from 0 to 3: ABC\n",
      "Amino acid at position 3: -\n"
     ]
    }
   ],
   "source": [
    "sequence = \"ABC--D\"\n",
    "start = 0\n",
    "end = 3\n",
    "print(f\"Epitope sequence from {start} to {end}: {sequence[start:end]}\")\n",
    "print(f\"Amino acid at position {end}: {sequence[end]}\")"
   ]
  },
  {
   "cell_type": "markdown",
   "metadata": {},
   "source": [
    "If we use `unalign_coords()` on a gap in this way we'll get a warning and it returns the coordinate of the next non-gap character after the gap."
   ]
  },
  {
   "cell_type": "code",
   "execution_count": null,
   "metadata": {},
   "outputs": [
    {
     "name": "stderr",
     "output_type": "stream",
     "text": [
      "WARNING:root:Amino acid at 3 is -\n",
      "Coordinate of gap in ungapped sequence is ambiguous\n",
      "Coordinate of next nongap character will be returned\n"
     ]
    },
    {
     "data": {
      "text/plain": [
       "0    3\n",
       "dtype: int64"
      ]
     },
     "execution_count": 18,
     "metadata": {},
     "output_type": "execute_result"
    }
   ],
   "source": [
    "sequence = \"ABC--D\"\n",
    "epitopes = pd.DataFrame({\n",
    "    'start':[0],\n",
    "    'end':[3],\n",
    "    'seq':[\"ABC\"],\n",
    "})\n",
    "\n",
    "map.unalign_coords(\n",
    "    table=epitopes,\n",
    "    aligned_parent_seq=sequence,\n",
    "    coord_col=\"end\",\n",
    "    index=0\n",
    ")"
   ]
  },
  {
   "cell_type": "markdown",
   "metadata": {},
   "source": [
    "Luckily, you only have to keep this in mind if you define your own aligned coordinates. All of the `epitope_aligner` functions handle this in a coordinated way to you don't have to. For example if you generate aligned coordinates with `locate_epitope` or `align_coords` you wont run into this problem."
   ]
  },
  {
   "cell_type": "markdown",
   "metadata": {},
   "source": [
    "# Float epitopes\n",
    "If you have epitope coordinates, you can easily \"float\" your epitopes so they\n",
    "match up with the parent sequence. By \"float\" I mean add gaps before the epitope and respect gaps within the epitope in the parent sequence. I chose the term \"float\" instead of \"align\" to avoid confusion with sequence aligners which look for evolutionary similarity between amino acids; `float_epitopes` just respects the start position and the location of gaps.\n",
    "\n",
    "Let's illustrate this with an example. Here is a sequence and a set of epitopes."
   ]
  },
  {
   "cell_type": "code",
   "execution_count": 19,
   "metadata": {},
   "outputs": [
    {
     "name": "stdout",
     "output_type": "stream",
     "text": [
      "ABCDFGHIJKLOPSTUVWXYZ\n"
     ]
    },
    {
     "data": {
      "text/html": [
       "<div>\n",
       "<style scoped>\n",
       "    .dataframe tbody tr th:only-of-type {\n",
       "        vertical-align: middle;\n",
       "    }\n",
       "\n",
       "    .dataframe tbody tr th {\n",
       "        vertical-align: top;\n",
       "    }\n",
       "\n",
       "    .dataframe thead th {\n",
       "        text-align: right;\n",
       "    }\n",
       "</style>\n",
       "<table border=\"1\" class=\"dataframe\">\n",
       "  <thead>\n",
       "    <tr style=\"text-align: right;\">\n",
       "      <th></th>\n",
       "      <th>name</th>\n",
       "      <th>start</th>\n",
       "      <th>end</th>\n",
       "      <th>seq</th>\n",
       "    </tr>\n",
       "  </thead>\n",
       "  <tbody>\n",
       "    <tr>\n",
       "      <th>0</th>\n",
       "      <td>epiA</td>\n",
       "      <td>1</td>\n",
       "      <td>4</td>\n",
       "      <td>BCD</td>\n",
       "    </tr>\n",
       "    <tr>\n",
       "      <th>1</th>\n",
       "      <td>epiB</td>\n",
       "      <td>4</td>\n",
       "      <td>8</td>\n",
       "      <td>FGHI</td>\n",
       "    </tr>\n",
       "    <tr>\n",
       "      <th>2</th>\n",
       "      <td>epiC</td>\n",
       "      <td>7</td>\n",
       "      <td>11</td>\n",
       "      <td>IJKL</td>\n",
       "    </tr>\n",
       "    <tr>\n",
       "      <th>3</th>\n",
       "      <td>epiD</td>\n",
       "      <td>10</td>\n",
       "      <td>14</td>\n",
       "      <td>LOPS</td>\n",
       "    </tr>\n",
       "    <tr>\n",
       "      <th>4</th>\n",
       "      <td>epiE</td>\n",
       "      <td>9</td>\n",
       "      <td>13</td>\n",
       "      <td>KLOP</td>\n",
       "    </tr>\n",
       "    <tr>\n",
       "      <th>5</th>\n",
       "      <td>epiF</td>\n",
       "      <td>11</td>\n",
       "      <td>15</td>\n",
       "      <td>OPST</td>\n",
       "    </tr>\n",
       "    <tr>\n",
       "      <th>6</th>\n",
       "      <td>epiG</td>\n",
       "      <td>13</td>\n",
       "      <td>17</td>\n",
       "      <td>STUV</td>\n",
       "    </tr>\n",
       "  </tbody>\n",
       "</table>\n",
       "</div>"
      ],
      "text/plain": [
       "   name  start  end   seq\n",
       "0  epiA      1    4   BCD\n",
       "1  epiB      4    8  FGHI\n",
       "2  epiC      7   11  IJKL\n",
       "3  epiD     10   14  LOPS\n",
       "4  epiE      9   13  KLOP\n",
       "5  epiF     11   15  OPST\n",
       "6  epiG     13   17  STUV"
      ]
     },
     "execution_count": 19,
     "metadata": {},
     "output_type": "execute_result"
    }
   ],
   "source": [
    "import pandas as pd\n",
    "from epitope_aligner import map, utils\n",
    "\n",
    "# The aligned version of our sequence\n",
    "aligned_seq = \"ABCD--FGHIJKL--OP--STUVWXYZ\"\n",
    "# The unaligned version\n",
    "seq = aligned_seq.replace(\"-\",\"\")\n",
    "\n",
    "# A table of epitopes in sequence, positions are relative to the\n",
    "# unaligned version\n",
    "epitopes = pd.DataFrame({\n",
    "        'name': ['epiA', 'epiB', 'epiC', 'epiD', 'epiE', 'epiF', 'epiG'],\n",
    "        'start':[1,      4,      7,      10,     9,      11,     13],\n",
    "        'end':  [4,      8,      11,     14,     13,     15,     17],\n",
    "        'seq':  [\"BCD\",  \"FGHI\", \"IJKL\", \"LOPS\", \"KLOP\", \"OPST\", \"STUV\"]\n",
    "})\n",
    "print(seq)\n",
    "epitopes"
   ]
  },
  {
   "cell_type": "markdown",
   "metadata": {},
   "source": [
    "We can use `float_epitopes()` to float the epitopes so they line up with the parent seq. Here we're using the unaligned `seq` as the `parent_seq`. Remember to use the correct `index` for you data, see the [coordinate system](#coordinate-system) section for more details."
   ]
  },
  {
   "cell_type": "code",
   "execution_count": 20,
   "metadata": {},
   "outputs": [
    {
     "name": "stdout",
     "output_type": "stream",
     "text": [
      "ABCDFGHIJKLOPSTUVWXYZ\n",
      "-BCD\n",
      "----FGHI\n",
      "-------IJKL\n",
      "----------LOPS\n",
      "---------KLOP\n",
      "-----------OPST\n",
      "-------------STUV\n"
     ]
    }
   ],
   "source": [
    "epitopes['float'] = map.float_epitopes(\n",
    "    table=epitopes,\n",
    "    parent_seq=seq,\n",
    "    index=0,\n",
    ")\n",
    "\n",
    "print(seq)\n",
    "for floating_epitope in epitopes.float:\n",
    "    print(floating_epitope)"
   ]
  },
  {
   "cell_type": "markdown",
   "metadata": {},
   "source": [
    "If you use `id_col` to specify a column of the epitope dataframe, `float_epitopes()`\n",
    "will return a list of Biopython SeqRecords. This can be saved out as a fasta or other\n",
    "type of sequence alignment file."
   ]
  },
  {
   "cell_type": "code",
   "execution_count": 21,
   "metadata": {},
   "outputs": [
    {
     "data": {
      "text/plain": [
       "[SeqRecord(seq=Seq('-BCD'), id='epiA', name='<unknown name>', description='<unknown description>', dbxrefs=[]),\n",
       " SeqRecord(seq=Seq('----FGHI'), id='epiB', name='<unknown name>', description='<unknown description>', dbxrefs=[]),\n",
       " SeqRecord(seq=Seq('-------IJKL'), id='epiC', name='<unknown name>', description='<unknown description>', dbxrefs=[]),\n",
       " SeqRecord(seq=Seq('----------LOPS'), id='epiD', name='<unknown name>', description='<unknown description>', dbxrefs=[]),\n",
       " SeqRecord(seq=Seq('---------KLOP'), id='epiE', name='<unknown name>', description='<unknown description>', dbxrefs=[]),\n",
       " SeqRecord(seq=Seq('-----------OPST'), id='epiF', name='<unknown name>', description='<unknown description>', dbxrefs=[]),\n",
       " SeqRecord(seq=Seq('-------------STUV'), id='epiG', name='<unknown name>', description='<unknown description>', dbxrefs=[])]"
      ]
     },
     "execution_count": 21,
     "metadata": {},
     "output_type": "execute_result"
    }
   ],
   "source": [
    "map.float_epitopes(\n",
    "    table=epitopes,\n",
    "    parent_seq=seq,\n",
    "    id_col=\"name\",\n",
    "    index=0,\n",
    ")"
   ]
  },
  {
   "cell_type": "markdown",
   "metadata": {},
   "source": [
    "If your epitope table doesn't use \"start\" and \"seq\" columns\n",
    "you can set custom column names."
   ]
  },
  {
   "cell_type": "code",
   "execution_count": 22,
   "metadata": {},
   "outputs": [
    {
     "data": {
      "text/plain": [
       "['-BCD',\n",
       " '----FGHI',\n",
       " '-------IJKL',\n",
       " '----------LOPS',\n",
       " '---------KLOP',\n",
       " '-----------OPST',\n",
       " '-------------STUV']"
      ]
     },
     "execution_count": 22,
     "metadata": {},
     "output_type": "execute_result"
    }
   ],
   "source": [
    "epitopes = epitopes.copy()\n",
    "epitopes.columns = [c.upper() for c in epitopes.columns]\n",
    "\n",
    "map.float_epitopes(\n",
    "    table=epitopes,\n",
    "    parent_seq=seq,\n",
    "    seq_col=\"SEQ\",\n",
    "    start_col=\"START\",\n",
    "    index=0,\n",
    ")"
   ]
  },
  {
   "cell_type": "markdown",
   "metadata": {},
   "source": [
    "We could also float the epitopes to line up with the aligned version of the parent sequence, as long as we have the start position in the aligned sequence. But don't worry, if you only have the start position in the unaligned `parent_seq` we can calculate it with `align_coords`!"
   ]
  },
  {
   "cell_type": "code",
   "execution_count": 23,
   "metadata": {},
   "outputs": [
    {
     "data": {
      "text/html": [
       "<div>\n",
       "<style scoped>\n",
       "    .dataframe tbody tr th:only-of-type {\n",
       "        vertical-align: middle;\n",
       "    }\n",
       "\n",
       "    .dataframe tbody tr th {\n",
       "        vertical-align: top;\n",
       "    }\n",
       "\n",
       "    .dataframe thead th {\n",
       "        text-align: right;\n",
       "    }\n",
       "</style>\n",
       "<table border=\"1\" class=\"dataframe\">\n",
       "  <thead>\n",
       "    <tr style=\"text-align: right;\">\n",
       "      <th></th>\n",
       "      <th>start</th>\n",
       "      <th>end</th>\n",
       "      <th>seq</th>\n",
       "      <th>aligned_start</th>\n",
       "    </tr>\n",
       "  </thead>\n",
       "  <tbody>\n",
       "    <tr>\n",
       "      <th>0</th>\n",
       "      <td>1</td>\n",
       "      <td>4</td>\n",
       "      <td>BCD</td>\n",
       "      <td>1</td>\n",
       "    </tr>\n",
       "    <tr>\n",
       "      <th>1</th>\n",
       "      <td>4</td>\n",
       "      <td>8</td>\n",
       "      <td>FGHI</td>\n",
       "      <td>6</td>\n",
       "    </tr>\n",
       "    <tr>\n",
       "      <th>2</th>\n",
       "      <td>7</td>\n",
       "      <td>11</td>\n",
       "      <td>IJKL</td>\n",
       "      <td>9</td>\n",
       "    </tr>\n",
       "    <tr>\n",
       "      <th>3</th>\n",
       "      <td>10</td>\n",
       "      <td>14</td>\n",
       "      <td>LOPS</td>\n",
       "      <td>12</td>\n",
       "    </tr>\n",
       "    <tr>\n",
       "      <th>4</th>\n",
       "      <td>9</td>\n",
       "      <td>13</td>\n",
       "      <td>KLOP</td>\n",
       "      <td>11</td>\n",
       "    </tr>\n",
       "    <tr>\n",
       "      <th>5</th>\n",
       "      <td>11</td>\n",
       "      <td>15</td>\n",
       "      <td>OPST</td>\n",
       "      <td>15</td>\n",
       "    </tr>\n",
       "    <tr>\n",
       "      <th>6</th>\n",
       "      <td>13</td>\n",
       "      <td>17</td>\n",
       "      <td>STUV</td>\n",
       "      <td>19</td>\n",
       "    </tr>\n",
       "  </tbody>\n",
       "</table>\n",
       "</div>"
      ],
      "text/plain": [
       "   start  end   seq  aligned_start\n",
       "0      1    4   BCD              1\n",
       "1      4    8  FGHI              6\n",
       "2      7   11  IJKL              9\n",
       "3     10   14  LOPS             12\n",
       "4      9   13  KLOP             11\n",
       "5     11   15  OPST             15\n",
       "6     13   17  STUV             19"
      ]
     },
     "execution_count": 23,
     "metadata": {},
     "output_type": "execute_result"
    }
   ],
   "source": [
    "# The aligned version of our sequence\n",
    "aligned_seq = \"ABCD--FGHIJKL--OP--STUVWXYZ\"\n",
    "# The unaligned version\n",
    "seq = aligned_seq.replace(\"-\",\"\")\n",
    "\n",
    "# A table of epitopes in sequence, positions are relative to the\n",
    "# unaligned version\n",
    "epitopes = pd.DataFrame({\n",
    "        'start':[1,      4,      7,      10,     9,      11,     13],\n",
    "        'end':  [4,      8,      11,     14,     13,     15,     17],\n",
    "        'seq':  [\"BCD\",  \"FGHI\", \"IJKL\", \"LOPS\", \"KLOP\", \"OPST\", \"STUV\"]\n",
    "})\n",
    "\n",
    "epitopes['aligned_start'] = map.align_coords(\n",
    "    table=epitopes,\n",
    "    aligned_parent_seq=aligned_seq,\n",
    "    coord_col=\"start\",\n",
    "    index=0\n",
    ")\n",
    "epitopes"
   ]
  },
  {
   "cell_type": "markdown",
   "metadata": {},
   "source": [
    "Now we can float our epitopes to the aligned `parent_seq`. Note we use the aligned parent sequence as `parent_seq` and change `start_col` from its default value to `aligned_start` (the column we just created with `align_coords`)."
   ]
  },
  {
   "cell_type": "code",
   "execution_count": 24,
   "metadata": {},
   "outputs": [
    {
     "name": "stdout",
     "output_type": "stream",
     "text": [
      "ABCD--FGHIJKL--OP--STUVWXYZ\n",
      "-BCD\n",
      "------FGHI\n",
      "---------IJKL\n",
      "------------L--OP--S\n",
      "-----------KL--OP\n",
      "---------------OP--ST\n",
      "-------------------STUV\n"
     ]
    }
   ],
   "source": [
    "epitopes['float_align'] = map.float_epitopes(\n",
    "    table=epitopes,\n",
    "    parent_seq=aligned_seq,\n",
    "    start_col=\"aligned_start\",\n",
    "    index=0\n",
    ")\n",
    "\n",
    "print(aligned_seq)\n",
    "for floating_epitope in epitopes.float_align:\n",
    "    print(floating_epitope)"
   ]
  },
  {
   "cell_type": "markdown",
   "metadata": {},
   "source": [
    "As with all of the `epitope_aligner` functions, we can float epitopes which are from different parent antigen sequences. To do this we pass a dictionary of parent sequences to `parent_seq` and we set `parent_col` to the name of a column which records which parent sequence to use for each epitopes.\n",
    "\n",
    "We'll demonstrate this with a dataframe of epitopes from one of two sequences using 1 indexed coordinates which *do* include the end. Note that we have a column called `parent` which indicates which antigen the epitope is from."
   ]
  },
  {
   "cell_type": "code",
   "execution_count": 25,
   "metadata": {},
   "outputs": [
    {
     "data": {
      "text/html": [
       "<div>\n",
       "<style scoped>\n",
       "    .dataframe tbody tr th:only-of-type {\n",
       "        vertical-align: middle;\n",
       "    }\n",
       "\n",
       "    .dataframe tbody tr th {\n",
       "        vertical-align: top;\n",
       "    }\n",
       "\n",
       "    .dataframe thead th {\n",
       "        text-align: right;\n",
       "    }\n",
       "</style>\n",
       "<table border=\"1\" class=\"dataframe\">\n",
       "  <thead>\n",
       "    <tr style=\"text-align: right;\">\n",
       "      <th></th>\n",
       "      <th>start</th>\n",
       "      <th>end</th>\n",
       "      <th>seq</th>\n",
       "      <th>parent</th>\n",
       "    </tr>\n",
       "  </thead>\n",
       "  <tbody>\n",
       "    <tr>\n",
       "      <th>0</th>\n",
       "      <td>2</td>\n",
       "      <td>4</td>\n",
       "      <td>BCD</td>\n",
       "      <td>seq1</td>\n",
       "    </tr>\n",
       "    <tr>\n",
       "      <th>1</th>\n",
       "      <td>6</td>\n",
       "      <td>9</td>\n",
       "      <td>FGHI</td>\n",
       "      <td>seq1</td>\n",
       "    </tr>\n",
       "    <tr>\n",
       "      <th>2</th>\n",
       "      <td>9</td>\n",
       "      <td>12</td>\n",
       "      <td>IJKL</td>\n",
       "      <td>seq1</td>\n",
       "    </tr>\n",
       "    <tr>\n",
       "      <th>0</th>\n",
       "      <td>2</td>\n",
       "      <td>5</td>\n",
       "      <td>OPQR</td>\n",
       "      <td>seq2</td>\n",
       "    </tr>\n",
       "    <tr>\n",
       "      <th>1</th>\n",
       "      <td>5</td>\n",
       "      <td>7</td>\n",
       "      <td>RST</td>\n",
       "      <td>seq2</td>\n",
       "    </tr>\n",
       "    <tr>\n",
       "      <th>2</th>\n",
       "      <td>8</td>\n",
       "      <td>10</td>\n",
       "      <td>UVW</td>\n",
       "      <td>seq2</td>\n",
       "    </tr>\n",
       "    <tr>\n",
       "      <th>3</th>\n",
       "      <td>10</td>\n",
       "      <td>13</td>\n",
       "      <td>WXYZ</td>\n",
       "      <td>seq2</td>\n",
       "    </tr>\n",
       "  </tbody>\n",
       "</table>\n",
       "</div>"
      ],
      "text/plain": [
       "   start  end   seq parent\n",
       "0      2    4   BCD   seq1\n",
       "1      6    9  FGHI   seq1\n",
       "2      9   12  IJKL   seq1\n",
       "0      2    5  OPQR   seq2\n",
       "1      5    7   RST   seq2\n",
       "2      8   10   UVW   seq2\n",
       "3     10   13  WXYZ   seq2"
      ]
     },
     "execution_count": 25,
     "metadata": {},
     "output_type": "execute_result"
    }
   ],
   "source": [
    "# Two different sequences\n",
    "seq1 = \"ABCDEFGHIJKLM\"\n",
    "seq2 = \"NOPQRSTUVWXYZ\"\n",
    "\n",
    "# Epitopes for those sequences\n",
    "epitopes1 = pd.DataFrame({\n",
    "        'start':  [2,      6,      9],\n",
    "        'end':    [4,      9,      12],\n",
    "        'seq':    [\"BCD\",  \"FGHI\", \"IJKL\"],\n",
    "        \"parent\": [\"seq1\", \"seq1\", \"seq1\"]\n",
    "})\n",
    "epitopes2 = pd.DataFrame({\n",
    "        'start':  [2,      5,        8,      10],\n",
    "        'end':    [5,      7,        10,     13],\n",
    "        'seq':    [\"OPQR\", \"RST\",    \"UVW\",  \"WXYZ\"],\n",
    "        \"parent\": [\"seq2\", \"seq2\",   \"seq2\", \"seq2\"]\n",
    "})\n",
    "\n",
    "epitopes = pd.concat([epitopes1, epitopes2])\n",
    "epitopes"
   ]
  },
  {
   "cell_type": "markdown",
   "metadata": {},
   "source": [
    "Next we'll make a dictionary out of the antigen sequences using the sequence names as keys."
   ]
  },
  {
   "cell_type": "code",
   "execution_count": 26,
   "metadata": {},
   "outputs": [
    {
     "data": {
      "text/plain": [
       "{'seq1': 'ABCDEFGHIJKLM', 'seq2': 'NOPQRSTUVWXYZ'}"
      ]
     },
     "execution_count": 26,
     "metadata": {},
     "output_type": "execute_result"
    }
   ],
   "source": [
    "parent_seqs = {\n",
    "    \"seq1\": seq1,\n",
    "    \"seq2\": seq2,\n",
    "}\n",
    "parent_seqs"
   ]
  },
  {
   "cell_type": "markdown",
   "metadata": {},
   "source": [
    "Now we're ready to float the epitopes to their respecitve parent sequences."
   ]
  },
  {
   "cell_type": "code",
   "execution_count": 27,
   "metadata": {},
   "outputs": [
    {
     "name": "stdout",
     "output_type": "stream",
     "text": [
      "ABCDEFGHIJKLM\n",
      "-BCD\n",
      "\n",
      "ABCDEFGHIJKLM\n",
      "-----FGHI\n",
      "\n",
      "ABCDEFGHIJKLM\n",
      "--------IJKL\n",
      "\n",
      "NOPQRSTUVWXYZ\n",
      "-OPQR\n",
      "\n",
      "NOPQRSTUVWXYZ\n",
      "----RST\n",
      "\n",
      "NOPQRSTUVWXYZ\n",
      "-------UVW\n",
      "\n",
      "NOPQRSTUVWXYZ\n",
      "---------WXYZ\n",
      "\n"
     ]
    }
   ],
   "source": [
    "epitopes['float'] = map.float_epitopes(\n",
    "    table=epitopes,\n",
    "    parent_seq=parent_seqs,\n",
    "    parent_col=\"parent\",\n",
    "    index=1,\n",
    ")\n",
    "\n",
    "for i,row in epitopes.iterrows():\n",
    "    print(parent_seqs[row.parent])\n",
    "    print(row.float)\n",
    "    print()"
   ]
  },
  {
   "cell_type": "markdown",
   "metadata": {},
   "source": [
    "## Alignment accuracy\n",
    "You can score how well a floating epitopes matches it's parent sequence.\n",
    "This is useful to identify epitopes that don't match their parent sequence,\n",
    "or low scores can indicate the wrong index.\n",
    "\n",
    "The alignment score can be calculated with `score_epitope_alignment()`.\n",
    "This function compares the value in `seq_col` with the `parent_seq`.\n",
    "The value in `seq_col` should be the epitope sequence floated to match the parent sequence.\n",
    "It returns a data frame with columns `score` and `matches`. `score` is the proportion of non-gap matches between epitope and parent sequence. `matches` is a list of booleans for matches."
   ]
  },
  {
   "cell_type": "code",
   "execution_count": 28,
   "metadata": {},
   "outputs": [
    {
     "data": {
      "text/html": [
       "<div>\n",
       "<style scoped>\n",
       "    .dataframe tbody tr th:only-of-type {\n",
       "        vertical-align: middle;\n",
       "    }\n",
       "\n",
       "    .dataframe tbody tr th {\n",
       "        vertical-align: top;\n",
       "    }\n",
       "\n",
       "    .dataframe thead th {\n",
       "        text-align: right;\n",
       "    }\n",
       "</style>\n",
       "<table border=\"1\" class=\"dataframe\">\n",
       "  <thead>\n",
       "    <tr style=\"text-align: right;\">\n",
       "      <th></th>\n",
       "      <th>score</th>\n",
       "      <th>matches</th>\n",
       "    </tr>\n",
       "  </thead>\n",
       "  <tbody>\n",
       "    <tr>\n",
       "      <th>0</th>\n",
       "      <td>1.0</td>\n",
       "      <td>[True, True, True]</td>\n",
       "    </tr>\n",
       "    <tr>\n",
       "      <th>1</th>\n",
       "      <td>1.0</td>\n",
       "      <td>[True, True, True, True]</td>\n",
       "    </tr>\n",
       "    <tr>\n",
       "      <th>2</th>\n",
       "      <td>1.0</td>\n",
       "      <td>[True, True, True, True]</td>\n",
       "    </tr>\n",
       "    <tr>\n",
       "      <th>0</th>\n",
       "      <td>1.0</td>\n",
       "      <td>[True, True, True, True]</td>\n",
       "    </tr>\n",
       "    <tr>\n",
       "      <th>1</th>\n",
       "      <td>1.0</td>\n",
       "      <td>[True, True, True]</td>\n",
       "    </tr>\n",
       "    <tr>\n",
       "      <th>2</th>\n",
       "      <td>1.0</td>\n",
       "      <td>[True, True, True]</td>\n",
       "    </tr>\n",
       "    <tr>\n",
       "      <th>3</th>\n",
       "      <td>1.0</td>\n",
       "      <td>[True, True, True, True]</td>\n",
       "    </tr>\n",
       "  </tbody>\n",
       "</table>\n",
       "</div>"
      ],
      "text/plain": [
       "   score                   matches\n",
       "0    1.0        [True, True, True]\n",
       "1    1.0  [True, True, True, True]\n",
       "2    1.0  [True, True, True, True]\n",
       "0    1.0  [True, True, True, True]\n",
       "1    1.0        [True, True, True]\n",
       "2    1.0        [True, True, True]\n",
       "3    1.0  [True, True, True, True]"
      ]
     },
     "execution_count": 28,
     "metadata": {},
     "output_type": "execute_result"
    }
   ],
   "source": [
    "map.score_epitope_alignments(\n",
    "    table=epitopes,\n",
    "    seq_col=\"float\",\n",
    "    parent_seq=parent_seqs,\n",
    "    parent_col=\"parent\"\n",
    ")"
   ]
  },
  {
   "cell_type": "markdown",
   "metadata": {},
   "source": [
    "# Locate epitopes\n",
    "Given epitopes that have been aligned to a parent sequence, for example the output of `float_epitopes`,\n",
    "what are the coordinates of the epitopes in that alignment?\n",
    "\n",
    "We can use `locate_epitopes()` for this. It returns the first and last non-gap positions for each epitope.\n",
    "With the arguments `index` and `includeend` we can set which coordinate system we want to use (see the [coordinate system](#coordinate-system) section for more details).\n",
    "\n",
    "Unlike most of the other `epitope_aligner` functions `locate_epitope` can be applied directly to a sequence string and it doesn't need to know the sequence of the parent antigen. Here's an example using zero indexing where the end is not included."
   ]
  },
  {
   "cell_type": "code",
   "execution_count": 29,
   "metadata": {},
   "outputs": [
    {
     "name": "stdout",
     "output_type": "stream",
     "text": [
      "--CD-F\n",
      "(2, 6)\n"
     ]
    }
   ],
   "source": [
    "from epitope_aligner import map\n",
    "import pandas as pd\n",
    "\n",
    "aligned_seq = \"--CD-F\"\n",
    "location = map.locate_epitope(\n",
    "    aligned_seq=aligned_seq,\n",
    "    index=0,\n",
    "    includeend=False\n",
    ")\n",
    "print(aligned_seq)\n",
    "print(location)"
   ]
  },
  {
   "cell_type": "markdown",
   "metadata": {},
   "source": [
    "Python uses zero indexes and slicing doesn't include the end position, as in the example above. However, if you want the location in the IEDB format (1 index and end position included in the epitope) you can set `index=1` and `includeend=True`."
   ]
  },
  {
   "cell_type": "code",
   "execution_count": 30,
   "metadata": {},
   "outputs": [
    {
     "name": "stdout",
     "output_type": "stream",
     "text": [
      "--CD-F\n",
      "(3, 6)\n"
     ]
    }
   ],
   "source": [
    "location = map.locate_epitope(\n",
    "    aligned_seq=aligned_seq,\n",
    "    index=1,\n",
    "    includeend=True\n",
    ")\n",
    "print(aligned_seq)\n",
    "print(location)"
   ]
  },
  {
   "cell_type": "markdown",
   "metadata": {},
   "source": [
    "Let's demonstrate with a whole table of aligned epitopes."
   ]
  },
  {
   "cell_type": "code",
   "execution_count": 31,
   "metadata": {},
   "outputs": [
    {
     "data": {
      "text/html": [
       "<div>\n",
       "<style scoped>\n",
       "    .dataframe tbody tr th:only-of-type {\n",
       "        vertical-align: middle;\n",
       "    }\n",
       "\n",
       "    .dataframe tbody tr th {\n",
       "        vertical-align: top;\n",
       "    }\n",
       "\n",
       "    .dataframe thead th {\n",
       "        text-align: right;\n",
       "    }\n",
       "</style>\n",
       "<table border=\"1\" class=\"dataframe\">\n",
       "  <thead>\n",
       "    <tr style=\"text-align: right;\">\n",
       "      <th></th>\n",
       "      <th>aligned_seq</th>\n",
       "      <th>seq</th>\n",
       "    </tr>\n",
       "  </thead>\n",
       "  <tbody>\n",
       "    <tr>\n",
       "      <th>0</th>\n",
       "      <td>abc</td>\n",
       "      <td>abc</td>\n",
       "    </tr>\n",
       "    <tr>\n",
       "      <th>1</th>\n",
       "      <td>--cdef</td>\n",
       "      <td>cdef</td>\n",
       "    </tr>\n",
       "    <tr>\n",
       "      <th>2</th>\n",
       "      <td>-----fghi</td>\n",
       "      <td>fghi</td>\n",
       "    </tr>\n",
       "    <tr>\n",
       "      <th>3</th>\n",
       "      <td>--cdef---</td>\n",
       "      <td>cdef</td>\n",
       "    </tr>\n",
       "    <tr>\n",
       "      <th>4</th>\n",
       "      <td>--cd-f---</td>\n",
       "      <td>cdf</td>\n",
       "    </tr>\n",
       "  </tbody>\n",
       "</table>\n",
       "</div>"
      ],
      "text/plain": [
       "  aligned_seq   seq\n",
       "0         abc   abc\n",
       "1      --cdef  cdef\n",
       "2   -----fghi  fghi\n",
       "3   --cdef---  cdef\n",
       "4   --cd-f---   cdf"
      ]
     },
     "execution_count": 31,
     "metadata": {},
     "output_type": "execute_result"
    }
   ],
   "source": [
    "epitopes = pd.DataFrame({\n",
    "    'aligned_seq': [\"abc\", \"--cdef\", \"-----fghi\", \"--cdef---\", \"--cd-f---\"]\n",
    "})\n",
    "epitopes['seq'] = epitopes.aligned_seq.str.replace(\"-\",\"\")\n",
    "epitopes\n"
   ]
  },
  {
   "cell_type": "code",
   "execution_count": 32,
   "metadata": {},
   "outputs": [
    {
     "data": {
      "text/html": [
       "<div>\n",
       "<style scoped>\n",
       "    .dataframe tbody tr th:only-of-type {\n",
       "        vertical-align: middle;\n",
       "    }\n",
       "\n",
       "    .dataframe tbody tr th {\n",
       "        vertical-align: top;\n",
       "    }\n",
       "\n",
       "    .dataframe thead th {\n",
       "        text-align: right;\n",
       "    }\n",
       "</style>\n",
       "<table border=\"1\" class=\"dataframe\">\n",
       "  <thead>\n",
       "    <tr style=\"text-align: right;\">\n",
       "      <th></th>\n",
       "      <th>aligned_seq</th>\n",
       "      <th>seq</th>\n",
       "      <th>start</th>\n",
       "      <th>end</th>\n",
       "    </tr>\n",
       "  </thead>\n",
       "  <tbody>\n",
       "    <tr>\n",
       "      <th>0</th>\n",
       "      <td>abc</td>\n",
       "      <td>abc</td>\n",
       "      <td>0</td>\n",
       "      <td>3</td>\n",
       "    </tr>\n",
       "    <tr>\n",
       "      <th>1</th>\n",
       "      <td>--cdef</td>\n",
       "      <td>cdef</td>\n",
       "      <td>2</td>\n",
       "      <td>6</td>\n",
       "    </tr>\n",
       "    <tr>\n",
       "      <th>2</th>\n",
       "      <td>-----fghi</td>\n",
       "      <td>fghi</td>\n",
       "      <td>5</td>\n",
       "      <td>9</td>\n",
       "    </tr>\n",
       "    <tr>\n",
       "      <th>3</th>\n",
       "      <td>--cdef---</td>\n",
       "      <td>cdef</td>\n",
       "      <td>2</td>\n",
       "      <td>6</td>\n",
       "    </tr>\n",
       "    <tr>\n",
       "      <th>4</th>\n",
       "      <td>--cd-f---</td>\n",
       "      <td>cdf</td>\n",
       "      <td>2</td>\n",
       "      <td>6</td>\n",
       "    </tr>\n",
       "  </tbody>\n",
       "</table>\n",
       "</div>"
      ],
      "text/plain": [
       "  aligned_seq   seq  start  end\n",
       "0         abc   abc      0    3\n",
       "1      --cdef  cdef      2    6\n",
       "2   -----fghi  fghi      5    9\n",
       "3   --cdef---  cdef      2    6\n",
       "4   --cd-f---   cdf      2    6"
      ]
     },
     "execution_count": 32,
     "metadata": {},
     "output_type": "execute_result"
    }
   ],
   "source": [
    "location = epitopes['aligned_seq'].apply(map.locate_epitope, index=0, includeend=False)\n",
    "epitopes[['start','end']] = pd.DataFrame(location.tolist())\n",
    "epitopes"
   ]
  },
  {
   "cell_type": "markdown",
   "metadata": {},
   "source": [
    "# Analysis\n",
    "With the functions describe above, `float_epitopes`, `locate_epitopes`, `align_coords`, and `unalign_coords` we can put all of our epitopes into a common coordinate system and aligned to whatever sequences we like. Which means we can now start to analyse our epitopes!\n",
    "\n",
    "This section describes how to aggregate your epitopes to calculate things like epitope density and how to visualise your new epitope locations.\n",
    "\n",
    "Let's start by generating some random epitopes, see the section on [utils](#utils) for more details about generating random epitopes and sequences."
   ]
  },
  {
   "cell_type": "code",
   "execution_count": 43,
   "metadata": {},
   "outputs": [
    {
     "name": "stdout",
     "output_type": "stream",
     "text": [
      "GNAGMEPIPVYMCCTPTGIT\n"
     ]
    },
    {
     "data": {
      "text/html": [
       "<div>\n",
       "<style scoped>\n",
       "    .dataframe tbody tr th:only-of-type {\n",
       "        vertical-align: middle;\n",
       "    }\n",
       "\n",
       "    .dataframe tbody tr th {\n",
       "        vertical-align: top;\n",
       "    }\n",
       "\n",
       "    .dataframe thead th {\n",
       "        text-align: right;\n",
       "    }\n",
       "</style>\n",
       "<table border=\"1\" class=\"dataframe\">\n",
       "  <thead>\n",
       "    <tr style=\"text-align: right;\">\n",
       "      <th></th>\n",
       "      <th>start</th>\n",
       "      <th>end</th>\n",
       "      <th>seq</th>\n",
       "      <th>length</th>\n",
       "    </tr>\n",
       "  </thead>\n",
       "  <tbody>\n",
       "    <tr>\n",
       "      <th>0</th>\n",
       "      <td>2</td>\n",
       "      <td>6</td>\n",
       "      <td>AGME</td>\n",
       "      <td>4</td>\n",
       "    </tr>\n",
       "    <tr>\n",
       "      <th>1</th>\n",
       "      <td>11</td>\n",
       "      <td>14</td>\n",
       "      <td>MCC</td>\n",
       "      <td>3</td>\n",
       "    </tr>\n",
       "    <tr>\n",
       "      <th>2</th>\n",
       "      <td>0</td>\n",
       "      <td>5</td>\n",
       "      <td>GNAGM</td>\n",
       "      <td>5</td>\n",
       "    </tr>\n",
       "  </tbody>\n",
       "</table>\n",
       "</div>"
      ],
      "text/plain": [
       "   start  end    seq  length\n",
       "0      2    6   AGME       4\n",
       "1     11   14    MCC       3\n",
       "2      0    5  GNAGM       5"
      ]
     },
     "execution_count": 43,
     "metadata": {},
     "output_type": "execute_result"
    }
   ],
   "source": [
    "import numpy as np\n",
    "import pandas as pd\n",
    "import matplotlib.pyplot as plt\n",
    "\n",
    "from epitope_aligner import map, stretch, utils\n",
    "\n",
    "sequence = utils.random_seq(20)\n",
    "epitopes = utils.random_epitopes(sequence, n=3, epitope_lengths=(3,6), index=0, includeend=False)\n",
    "\n",
    "print(sequence)\n",
    "epitopes"
   ]
  },
  {
   "cell_type": "markdown",
   "metadata": {},
   "source": [
    "An nice start point is to plot the locations of each epitope. With `plot_line()`,\n",
    "each epitope is plotted as a horizontal line from its start to its end coordinate.\n",
    "The position on the y axis is based on the column name passed to the `y` argument.\n",
    "\n",
    "For simplicity we have used the start position but it could be anything you have\n",
    "such as binding affinity or response frequency. We also haven't added any labels but that can be done the same was as for any matplotlib plot. See the quick start guide for an example using colour."
   ]
  },
  {
   "cell_type": "code",
   "execution_count": 44,
   "metadata": {},
   "outputs": [
    {
     "data": {
      "image/png": "[encoded data removed]",
      "text/plain": [
       "<Figure size 640x480 with 1 Axes>"
      ]
     },
     "metadata": {},
     "output_type": "display_data"
    }
   ],
   "source": [
    "utils.plot_line(epitopes, y=\"start\", c=\"black\")\n",
    "plt.show()"
   ]
  },
  {
   "cell_type": "markdown",
   "metadata": {},
   "source": [
    "## Stretch epitopes\n",
    "If we want to focus, not on individual epitopes, but all epitopes at a position,\n",
    "we can use the `stretch()` function. This function \"stretches\" the epitopes so we have\n",
    "a record for each position the epitope overlaps. This means that instead of each row being an epitope, each row is a position occupied by a given epitope.\n",
    "Effectively duplicating each row for each residue in the epitope\n",
    "and adding a column indicating the position of that residue. This is useful because we can then group epitopes by their overlapping positions."
   ]
  },
  {
   "cell_type": "code",
   "execution_count": 45,
   "metadata": {},
   "outputs": [
    {
     "data": {
      "text/html": [
       "<div>\n",
       "<style scoped>\n",
       "    .dataframe tbody tr th:only-of-type {\n",
       "        vertical-align: middle;\n",
       "    }\n",
       "\n",
       "    .dataframe tbody tr th {\n",
       "        vertical-align: top;\n",
       "    }\n",
       "\n",
       "    .dataframe thead th {\n",
       "        text-align: right;\n",
       "    }\n",
       "</style>\n",
       "<table border=\"1\" class=\"dataframe\">\n",
       "  <thead>\n",
       "    <tr style=\"text-align: right;\">\n",
       "      <th></th>\n",
       "      <th>start</th>\n",
       "      <th>end</th>\n",
       "      <th>seq</th>\n",
       "      <th>length</th>\n",
       "      <th>position</th>\n",
       "      <th>residue</th>\n",
       "    </tr>\n",
       "  </thead>\n",
       "  <tbody>\n",
       "    <tr>\n",
       "      <th>2</th>\n",
       "      <td>0</td>\n",
       "      <td>5</td>\n",
       "      <td>GNAGM</td>\n",
       "      <td>5</td>\n",
       "      <td>0</td>\n",
       "      <td>G</td>\n",
       "    </tr>\n",
       "    <tr>\n",
       "      <th>2</th>\n",
       "      <td>0</td>\n",
       "      <td>5</td>\n",
       "      <td>GNAGM</td>\n",
       "      <td>5</td>\n",
       "      <td>1</td>\n",
       "      <td>N</td>\n",
       "    </tr>\n",
       "    <tr>\n",
       "      <th>2</th>\n",
       "      <td>0</td>\n",
       "      <td>5</td>\n",
       "      <td>GNAGM</td>\n",
       "      <td>5</td>\n",
       "      <td>2</td>\n",
       "      <td>A</td>\n",
       "    </tr>\n",
       "    <tr>\n",
       "      <th>2</th>\n",
       "      <td>0</td>\n",
       "      <td>5</td>\n",
       "      <td>GNAGM</td>\n",
       "      <td>5</td>\n",
       "      <td>3</td>\n",
       "      <td>G</td>\n",
       "    </tr>\n",
       "    <tr>\n",
       "      <th>2</th>\n",
       "      <td>0</td>\n",
       "      <td>5</td>\n",
       "      <td>GNAGM</td>\n",
       "      <td>5</td>\n",
       "      <td>4</td>\n",
       "      <td>M</td>\n",
       "    </tr>\n",
       "    <tr>\n",
       "      <th>0</th>\n",
       "      <td>2</td>\n",
       "      <td>6</td>\n",
       "      <td>AGME</td>\n",
       "      <td>4</td>\n",
       "      <td>2</td>\n",
       "      <td>A</td>\n",
       "    </tr>\n",
       "    <tr>\n",
       "      <th>0</th>\n",
       "      <td>2</td>\n",
       "      <td>6</td>\n",
       "      <td>AGME</td>\n",
       "      <td>4</td>\n",
       "      <td>3</td>\n",
       "      <td>G</td>\n",
       "    </tr>\n",
       "    <tr>\n",
       "      <th>0</th>\n",
       "      <td>2</td>\n",
       "      <td>6</td>\n",
       "      <td>AGME</td>\n",
       "      <td>4</td>\n",
       "      <td>4</td>\n",
       "      <td>M</td>\n",
       "    </tr>\n",
       "    <tr>\n",
       "      <th>0</th>\n",
       "      <td>2</td>\n",
       "      <td>6</td>\n",
       "      <td>AGME</td>\n",
       "      <td>4</td>\n",
       "      <td>5</td>\n",
       "      <td>E</td>\n",
       "    </tr>\n",
       "    <tr>\n",
       "      <th>1</th>\n",
       "      <td>11</td>\n",
       "      <td>14</td>\n",
       "      <td>MCC</td>\n",
       "      <td>3</td>\n",
       "      <td>11</td>\n",
       "      <td>M</td>\n",
       "    </tr>\n",
       "    <tr>\n",
       "      <th>1</th>\n",
       "      <td>11</td>\n",
       "      <td>14</td>\n",
       "      <td>MCC</td>\n",
       "      <td>3</td>\n",
       "      <td>12</td>\n",
       "      <td>C</td>\n",
       "    </tr>\n",
       "    <tr>\n",
       "      <th>1</th>\n",
       "      <td>11</td>\n",
       "      <td>14</td>\n",
       "      <td>MCC</td>\n",
       "      <td>3</td>\n",
       "      <td>13</td>\n",
       "      <td>C</td>\n",
       "    </tr>\n",
       "  </tbody>\n",
       "</table>\n",
       "</div>"
      ],
      "text/plain": [
       "   start  end    seq  length  position residue\n",
       "2      0    5  GNAGM       5         0       G\n",
       "2      0    5  GNAGM       5         1       N\n",
       "2      0    5  GNAGM       5         2       A\n",
       "2      0    5  GNAGM       5         3       G\n",
       "2      0    5  GNAGM       5         4       M\n",
       "0      2    6   AGME       4         2       A\n",
       "0      2    6   AGME       4         3       G\n",
       "0      2    6   AGME       4         4       M\n",
       "0      2    6   AGME       4         5       E\n",
       "1     11   14    MCC       3        11       M\n",
       "1     11   14    MCC       3        12       C\n",
       "1     11   14    MCC       3        13       C"
      ]
     },
     "execution_count": 45,
     "metadata": {},
     "output_type": "execute_result"
    }
   ],
   "source": [
    "stretched_epitopes = stretch.stretch(epitopes)\n",
    "stretched_epitopes"
   ]
  },
  {
   "cell_type": "markdown",
   "metadata": {},
   "source": [
    "This allows us to assess all the epitopes at a given position\n",
    "Use groupby on the new position column and then apply whatever function you like.\n",
    "\n",
    "For example, `size` counts the number of epitopes overlapping a given position. There is another example later in this notebook, or look up pandas `groupby` for more detail on these type of functions."
   ]
  },
  {
   "cell_type": "code",
   "execution_count": 46,
   "metadata": {},
   "outputs": [
    {
     "data": {
      "text/plain": [
       "position\n",
       "0     1\n",
       "1     1\n",
       "2     2\n",
       "3     2\n",
       "4     2\n",
       "5     1\n",
       "11    1\n",
       "12    1\n",
       "13    1\n",
       "dtype: int64"
      ]
     },
     "execution_count": 46,
     "metadata": {},
     "output_type": "execute_result"
    }
   ],
   "source": [
    "positional_count = stretched_epitopes.groupby(\"position\").size()\n",
    "positional_count"
   ]
  },
  {
   "cell_type": "markdown",
   "metadata": {},
   "source": [
    "Note that there are not records for positions without any epitopes\n",
    "But we can add them with `add_empty_positions()`."
   ]
  },
  {
   "cell_type": "code",
   "execution_count": 48,
   "metadata": {},
   "outputs": [],
   "source": [
    "positional_count = stretch.add_empty_positions(\n",
    "    positional_count,\n",
    "    parent_seq_length=len(sequence),\n",
    "    index=1,\n",
    "    empty_value=0\n",
    ")"
   ]
  },
  {
   "cell_type": "markdown",
   "metadata": {},
   "source": [
    "Now we have the number of epitopes overlapping each position in the parent sequence.\n",
    "We can easily plot this to see which regions are epitope rich."
   ]
  },
  {
   "cell_type": "code",
   "execution_count": 49,
   "metadata": {},
   "outputs": [
    {
     "data": {
      "image/png": "[encoded data removed]",
      "text/plain": [
       "<Figure size 640x480 with 1 Axes>"
      ]
     },
     "metadata": {},
     "output_type": "display_data"
    }
   ],
   "source": [
    "plt.plot(positional_count)\n",
    "plt.show()"
   ]
  },
  {
   "cell_type": "markdown",
   "metadata": {},
   "source": [
    "## Epitope grids\n",
    "`stretch()` prepares epitope data so we can group them by position, but what if we want to group them by position and some other variable, eg MHC allele? For that we can make an epitope grid using `make_grid()`. This lets us compare epitopes along the protein between groups. For example we may reveal the one region is particularly rich in epitopes for a recognised by a set of MHC alleles associated with a disease.\n",
    "\n",
    "Create some random epitopes and create a new column for fictional MHC alleles that recognise these epitopes."
   ]
  },
  {
   "cell_type": "code",
   "execution_count": 50,
   "metadata": {},
   "outputs": [
    {
     "name": "stdout",
     "output_type": "stream",
     "text": [
      "WVTVRLEWAI\n"
     ]
    },
    {
     "data": {
      "text/html": [
       "<div>\n",
       "<style scoped>\n",
       "    .dataframe tbody tr th:only-of-type {\n",
       "        vertical-align: middle;\n",
       "    }\n",
       "\n",
       "    .dataframe tbody tr th {\n",
       "        vertical-align: top;\n",
       "    }\n",
       "\n",
       "    .dataframe thead th {\n",
       "        text-align: right;\n",
       "    }\n",
       "</style>\n",
       "<table border=\"1\" class=\"dataframe\">\n",
       "  <thead>\n",
       "    <tr style=\"text-align: right;\">\n",
       "      <th></th>\n",
       "      <th>start</th>\n",
       "      <th>end</th>\n",
       "      <th>seq</th>\n",
       "      <th>length</th>\n",
       "      <th>mhc_allele</th>\n",
       "    </tr>\n",
       "  </thead>\n",
       "  <tbody>\n",
       "    <tr>\n",
       "      <th>0</th>\n",
       "      <td>2</td>\n",
       "      <td>5</td>\n",
       "      <td>TVR</td>\n",
       "      <td>3</td>\n",
       "      <td>x</td>\n",
       "    </tr>\n",
       "    <tr>\n",
       "      <th>1</th>\n",
       "      <td>5</td>\n",
       "      <td>8</td>\n",
       "      <td>LEW</td>\n",
       "      <td>3</td>\n",
       "      <td>x</td>\n",
       "    </tr>\n",
       "    <tr>\n",
       "      <th>2</th>\n",
       "      <td>0</td>\n",
       "      <td>4</td>\n",
       "      <td>WVTV</td>\n",
       "      <td>4</td>\n",
       "      <td>y</td>\n",
       "    </tr>\n",
       "    <tr>\n",
       "      <th>3</th>\n",
       "      <td>3</td>\n",
       "      <td>7</td>\n",
       "      <td>VRLE</td>\n",
       "      <td>4</td>\n",
       "      <td>z</td>\n",
       "    </tr>\n",
       "    <tr>\n",
       "      <th>4</th>\n",
       "      <td>0</td>\n",
       "      <td>4</td>\n",
       "      <td>WVTV</td>\n",
       "      <td>4</td>\n",
       "      <td>z</td>\n",
       "    </tr>\n",
       "  </tbody>\n",
       "</table>\n",
       "</div>"
      ],
      "text/plain": [
       "   start  end   seq  length mhc_allele\n",
       "0      2    5   TVR       3          x\n",
       "1      5    8   LEW       3          x\n",
       "2      0    4  WVTV       4          y\n",
       "3      3    7  VRLE       4          z\n",
       "4      0    4  WVTV       4          z"
      ]
     },
     "execution_count": 50,
     "metadata": {},
     "output_type": "execute_result"
    }
   ],
   "source": [
    "sequence = utils.random_seq(10)\n",
    "epitopes = utils.random_epitopes(sequence, n=5, epitope_lengths=(3,6), index=0, includeend=False)\n",
    "epitopes['mhc_allele'] = [\"x\",\"x\",\"y\",\"z\",\"z\"]\n",
    "\n",
    "print(sequence)\n",
    "epitopes"
   ]
  },
  {
   "cell_type": "markdown",
   "metadata": {},
   "source": [
    "Now we stretch the epitopes, same as before."
   ]
  },
  {
   "cell_type": "code",
   "execution_count": 51,
   "metadata": {},
   "outputs": [],
   "source": [
    "stretched_epitopes = stretch.stretch(epitopes)"
   ]
  },
  {
   "cell_type": "markdown",
   "metadata": {},
   "source": [
    "This is an example of some more interesting groupby functions we can apply."
   ]
  },
  {
   "cell_type": "code",
   "execution_count": 52,
   "metadata": {},
   "outputs": [
    {
     "data": {
      "text/html": [
       "<div>\n",
       "<style scoped>\n",
       "    .dataframe tbody tr th:only-of-type {\n",
       "        vertical-align: middle;\n",
       "    }\n",
       "\n",
       "    .dataframe tbody tr th {\n",
       "        vertical-align: top;\n",
       "    }\n",
       "\n",
       "    .dataframe thead th {\n",
       "        text-align: right;\n",
       "    }\n",
       "</style>\n",
       "<table border=\"1\" class=\"dataframe\">\n",
       "  <thead>\n",
       "    <tr style=\"text-align: right;\">\n",
       "      <th></th>\n",
       "      <th>mean_start</th>\n",
       "      <th>n_alleles</th>\n",
       "    </tr>\n",
       "    <tr>\n",
       "      <th>position</th>\n",
       "      <th></th>\n",
       "      <th></th>\n",
       "    </tr>\n",
       "  </thead>\n",
       "  <tbody>\n",
       "    <tr>\n",
       "      <th>0</th>\n",
       "      <td>0.000000</td>\n",
       "      <td>2</td>\n",
       "    </tr>\n",
       "    <tr>\n",
       "      <th>1</th>\n",
       "      <td>0.000000</td>\n",
       "      <td>2</td>\n",
       "    </tr>\n",
       "    <tr>\n",
       "      <th>2</th>\n",
       "      <td>0.666667</td>\n",
       "      <td>3</td>\n",
       "    </tr>\n",
       "    <tr>\n",
       "      <th>3</th>\n",
       "      <td>1.250000</td>\n",
       "      <td>3</td>\n",
       "    </tr>\n",
       "    <tr>\n",
       "      <th>4</th>\n",
       "      <td>2.500000</td>\n",
       "      <td>2</td>\n",
       "    </tr>\n",
       "    <tr>\n",
       "      <th>5</th>\n",
       "      <td>4.000000</td>\n",
       "      <td>2</td>\n",
       "    </tr>\n",
       "    <tr>\n",
       "      <th>6</th>\n",
       "      <td>4.000000</td>\n",
       "      <td>2</td>\n",
       "    </tr>\n",
       "    <tr>\n",
       "      <th>7</th>\n",
       "      <td>5.000000</td>\n",
       "      <td>1</td>\n",
       "    </tr>\n",
       "  </tbody>\n",
       "</table>\n",
       "</div>"
      ],
      "text/plain": [
       "          mean_start  n_alleles\n",
       "position                       \n",
       "0           0.000000          2\n",
       "1           0.000000          2\n",
       "2           0.666667          3\n",
       "3           1.250000          3\n",
       "4           2.500000          2\n",
       "5           4.000000          2\n",
       "6           4.000000          2\n",
       "7           5.000000          1"
      ]
     },
     "execution_count": 52,
     "metadata": {},
     "output_type": "execute_result"
    }
   ],
   "source": [
    "stretched_epitopes.groupby(\"position\").agg(\n",
    "    # Average start position of epitopes overlapping this position\n",
    "    mean_start=('start', \"mean\"),\n",
    "    # number of unique mhc alleles with epitopes at this position\n",
    "    n_alleles = ('mhc_allele', lambda x: len(set(x)))\n",
    ")"
   ]
  },
  {
   "cell_type": "markdown",
   "metadata": {},
   "source": [
    "Lets use groupby to count the number of epitopes for each MHC allele, at each position."
   ]
  },
  {
   "cell_type": "code",
   "execution_count": 53,
   "metadata": {},
   "outputs": [
    {
     "data": {
      "text/plain": [
       "mhc_allele  position\n",
       "x           2           1\n",
       "            3           1\n",
       "            4           1\n",
       "            5           1\n",
       "            6           1\n",
       "            7           1\n",
       "y           0           1\n",
       "            1           1\n",
       "            2           1\n",
       "            3           1\n",
       "z           0           1\n",
       "            1           1\n",
       "            2           1\n",
       "            3           2\n",
       "            4           1\n",
       "            5           1\n",
       "            6           1\n",
       "dtype: int64"
      ]
     },
     "execution_count": 53,
     "metadata": {},
     "output_type": "execute_result"
    }
   ],
   "source": [
    "allele_position_count = stretched_epitopes.groupby([\"mhc_allele\", \"position\"]).size()\n",
    "allele_position_count"
   ]
  },
  {
   "cell_type": "markdown",
   "metadata": {},
   "source": [
    "The above result doesn't have values for all position-allele combinations. We can add them using `add_empty_positions()`.\n",
    "Or we can use `make_grid()` which automatically fills in missing values. In this example each column is a position, each row is an mhc_allele, and each value is the number of epitopes for that mhc_allele at that position."
   ]
  },
  {
   "cell_type": "code",
   "execution_count": 55,
   "metadata": {},
   "outputs": [
    {
     "data": {
      "text/html": [
       "<div>\n",
       "<style scoped>\n",
       "    .dataframe tbody tr th:only-of-type {\n",
       "        vertical-align: middle;\n",
       "    }\n",
       "\n",
       "    .dataframe tbody tr th {\n",
       "        vertical-align: top;\n",
       "    }\n",
       "\n",
       "    .dataframe thead tr th {\n",
       "        text-align: left;\n",
       "    }\n",
       "\n",
       "    .dataframe thead tr:last-of-type th {\n",
       "        text-align: right;\n",
       "    }\n",
       "</style>\n",
       "<table border=\"1\" class=\"dataframe\">\n",
       "  <thead>\n",
       "    <tr>\n",
       "      <th></th>\n",
       "      <th colspan=\"10\" halign=\"left\">0</th>\n",
       "    </tr>\n",
       "    <tr>\n",
       "      <th>position</th>\n",
       "      <th>0</th>\n",
       "      <th>1</th>\n",
       "      <th>2</th>\n",
       "      <th>3</th>\n",
       "      <th>4</th>\n",
       "      <th>5</th>\n",
       "      <th>6</th>\n",
       "      <th>7</th>\n",
       "      <th>8</th>\n",
       "      <th>9</th>\n",
       "    </tr>\n",
       "    <tr>\n",
       "      <th>mhc_allele</th>\n",
       "      <th></th>\n",
       "      <th></th>\n",
       "      <th></th>\n",
       "      <th></th>\n",
       "      <th></th>\n",
       "      <th></th>\n",
       "      <th></th>\n",
       "      <th></th>\n",
       "      <th></th>\n",
       "      <th></th>\n",
       "    </tr>\n",
       "  </thead>\n",
       "  <tbody>\n",
       "    <tr>\n",
       "      <th>y</th>\n",
       "      <td>1</td>\n",
       "      <td>1</td>\n",
       "      <td>1</td>\n",
       "      <td>1</td>\n",
       "      <td>0</td>\n",
       "      <td>0</td>\n",
       "      <td>0</td>\n",
       "      <td>0</td>\n",
       "      <td>0</td>\n",
       "      <td>0</td>\n",
       "    </tr>\n",
       "    <tr>\n",
       "      <th>x</th>\n",
       "      <td>0</td>\n",
       "      <td>0</td>\n",
       "      <td>1</td>\n",
       "      <td>1</td>\n",
       "      <td>1</td>\n",
       "      <td>1</td>\n",
       "      <td>1</td>\n",
       "      <td>1</td>\n",
       "      <td>0</td>\n",
       "      <td>0</td>\n",
       "    </tr>\n",
       "    <tr>\n",
       "      <th>z</th>\n",
       "      <td>1</td>\n",
       "      <td>1</td>\n",
       "      <td>1</td>\n",
       "      <td>2</td>\n",
       "      <td>1</td>\n",
       "      <td>1</td>\n",
       "      <td>1</td>\n",
       "      <td>0</td>\n",
       "      <td>0</td>\n",
       "      <td>0</td>\n",
       "    </tr>\n",
       "  </tbody>\n",
       "</table>\n",
       "</div>"
      ],
      "text/plain": [
       "            0                           \n",
       "position    0  1  2  3  4  5  6  7  8  9\n",
       "mhc_allele                              \n",
       "y           1  1  1  1  0  0  0  0  0  0\n",
       "x           0  0  1  1  1  1  1  1  0  0\n",
       "z           1  1  1  2  1  1  1  0  0  0"
      ]
     },
     "execution_count": 55,
     "metadata": {},
     "output_type": "execute_result"
    }
   ],
   "source": [
    "grid = stretch.make_grid(\n",
    "    allele_position_count,\n",
    "    index=0,\n",
    "    parent_seq_length=len(sequence),\n",
    "    empty_value=0\n",
    ")\n",
    "\n",
    "grid"
   ]
  },
  {
   "cell_type": "markdown",
   "metadata": {},
   "source": [
    "We can plot this matrix easily using `matplotlib` which is very useful for viewing this\n",
    "type of grids for lots of MHC alleles."
   ]
  },
  {
   "cell_type": "code",
   "execution_count": 58,
   "metadata": {},
   "outputs": [
    {
     "data": {
      "image/png": "[encoded data removed]",
      "text/plain": [
       "<Figure size 1600x480 with 1 Axes>"
      ]
     },
     "metadata": {},
     "output_type": "display_data"
    }
   ],
   "source": [
    "plt.matshow(grid)\n",
    "plt.yticks(np.arange(len(grid.index)), labels=grid.index)\n",
    "plt.show()"
   ]
  },
  {
   "cell_type": "markdown",
   "metadata": {},
   "source": [
    "# Utils\n",
    "`epitope_aligner` also includes functions to generate random sequences and epitopes.\n",
    "`random_seq` returns a random sequence of given amino acids with a specified length. By default the 20 amino acids are used as capital letters. You could use a different set of characters or increase the probability of specific characters by including them multiple times in `AAs`."
   ]
  },
  {
   "cell_type": "code",
   "execution_count": 3,
   "metadata": {},
   "outputs": [
    {
     "name": "stdout",
     "output_type": "stream",
     "text": [
      "YVPWQRWGPG\n",
      "ABABABBBAABBBBBABBBBBBABABBBAB\n"
     ]
    }
   ],
   "source": [
    "from epitope_aligner import utils\n",
    "\n",
    "# Random sequence, length 10\n",
    "seq1 = utils.random_seq(seq_length=10)\n",
    "print(seq1)\n",
    "\n",
    "# Random sequence of As and Bs where B is twice as common\n",
    "seq2 = utils.random_seq(seq_length=30, AAs= \"ABB\")\n",
    "print(seq2)\n"
   ]
  },
  {
   "cell_type": "markdown",
   "metadata": {},
   "source": [
    "We can create a set of random epitopes based on a given sequence. We specify the min and maximum length of these epitopes with the `epitope_lengths` argument which takes a tuple. We also have to define the coordinate system we're using."
   ]
  },
  {
   "cell_type": "code",
   "execution_count": 4,
   "metadata": {},
   "outputs": [
    {
     "data": {
      "text/html": [
       "<div>\n",
       "<style scoped>\n",
       "    .dataframe tbody tr th:only-of-type {\n",
       "        vertical-align: middle;\n",
       "    }\n",
       "\n",
       "    .dataframe tbody tr th {\n",
       "        vertical-align: top;\n",
       "    }\n",
       "\n",
       "    .dataframe thead th {\n",
       "        text-align: right;\n",
       "    }\n",
       "</style>\n",
       "<table border=\"1\" class=\"dataframe\">\n",
       "  <thead>\n",
       "    <tr style=\"text-align: right;\">\n",
       "      <th></th>\n",
       "      <th>start</th>\n",
       "      <th>end</th>\n",
       "      <th>seq</th>\n",
       "      <th>length</th>\n",
       "    </tr>\n",
       "  </thead>\n",
       "  <tbody>\n",
       "    <tr>\n",
       "      <th>0</th>\n",
       "      <td>5</td>\n",
       "      <td>8</td>\n",
       "      <td>RWG</td>\n",
       "      <td>3</td>\n",
       "    </tr>\n",
       "    <tr>\n",
       "      <th>1</th>\n",
       "      <td>1</td>\n",
       "      <td>5</td>\n",
       "      <td>VPWQ</td>\n",
       "      <td>4</td>\n",
       "    </tr>\n",
       "    <tr>\n",
       "      <th>2</th>\n",
       "      <td>4</td>\n",
       "      <td>8</td>\n",
       "      <td>QRWG</td>\n",
       "      <td>4</td>\n",
       "    </tr>\n",
       "    <tr>\n",
       "      <th>3</th>\n",
       "      <td>3</td>\n",
       "      <td>6</td>\n",
       "      <td>WQR</td>\n",
       "      <td>3</td>\n",
       "    </tr>\n",
       "    <tr>\n",
       "      <th>4</th>\n",
       "      <td>2</td>\n",
       "      <td>5</td>\n",
       "      <td>PWQ</td>\n",
       "      <td>3</td>\n",
       "    </tr>\n",
       "    <tr>\n",
       "      <th>5</th>\n",
       "      <td>3</td>\n",
       "      <td>8</td>\n",
       "      <td>WQRWG</td>\n",
       "      <td>5</td>\n",
       "    </tr>\n",
       "    <tr>\n",
       "      <th>6</th>\n",
       "      <td>2</td>\n",
       "      <td>5</td>\n",
       "      <td>PWQ</td>\n",
       "      <td>3</td>\n",
       "    </tr>\n",
       "    <tr>\n",
       "      <th>7</th>\n",
       "      <td>3</td>\n",
       "      <td>5</td>\n",
       "      <td>WQ</td>\n",
       "      <td>2</td>\n",
       "    </tr>\n",
       "    <tr>\n",
       "      <th>8</th>\n",
       "      <td>1</td>\n",
       "      <td>4</td>\n",
       "      <td>VPW</td>\n",
       "      <td>3</td>\n",
       "    </tr>\n",
       "    <tr>\n",
       "      <th>9</th>\n",
       "      <td>5</td>\n",
       "      <td>9</td>\n",
       "      <td>RWGP</td>\n",
       "      <td>4</td>\n",
       "    </tr>\n",
       "  </tbody>\n",
       "</table>\n",
       "</div>"
      ],
      "text/plain": [
       "   start  end    seq  length\n",
       "0      5    8    RWG       3\n",
       "1      1    5   VPWQ       4\n",
       "2      4    8   QRWG       4\n",
       "3      3    6    WQR       3\n",
       "4      2    5    PWQ       3\n",
       "5      3    8  WQRWG       5\n",
       "6      2    5    PWQ       3\n",
       "7      3    5     WQ       2\n",
       "8      1    4    VPW       3\n",
       "9      5    9   RWGP       4"
      ]
     },
     "execution_count": 4,
     "metadata": {},
     "output_type": "execute_result"
    }
   ],
   "source": [
    "utils.random_epitopes(\n",
    "    sequence=seq1,\n",
    "    n=10,\n",
    "    epitope_lengths=(2,6),\n",
    "    index=0,\n",
    "    includeend=False\n",
    ")"
   ]
  },
  {
   "cell_type": "markdown",
   "metadata": {},
   "source": [
    "We can also introduce random gaps to a sequence to simulate an aligned version of the sequence. This is really only useful for testing. `gap_prob` is the probability of introducing a gap at each position. `gap_size_interval` is a tuple of the minimum and maximum size of gaps to introduce."
   ]
  },
  {
   "cell_type": "code",
   "execution_count": 6,
   "metadata": {},
   "outputs": [
    {
     "data": {
      "text/plain": [
       "'Y-VPW-QRWG-P--G'"
      ]
     },
     "execution_count": 6,
     "metadata": {},
     "output_type": "execute_result"
    }
   ],
   "source": [
    "utils.random_gaps(\n",
    "    seq=seq1,\n",
    "    gap_prob=0.3,\n",
    "    gap_size_interval=(1,3)\n",
    ")"
   ]
  },
  {
   "cell_type": "markdown",
   "metadata": {},
   "source": [
    "# Conclusion\n",
    "Those are all the functions of `epitope_aligner`! If you have any trouble with them, spot a bug, or want to requests something new; please open an [issue](https://github.com/BarinthusBio/epitope_aligner/issues) on github. See the quick start for an example use case of `epitope_aligner` that shows off some of what you can do with it."
   ]
  }
 ],
 "metadata": {
  "kernelspec": {
   "display_name": ".venv",
   "language": "python",
   "name": "python3"
  },
  "language_info": {
   "codemirror_mode": {
    "name": "ipython",
    "version": 3
   },
   "file_extension": ".py",
   "mimetype": "text/x-python",
   "name": "python",
   "nbconvert_exporter": "python",
   "pygments_lexer": "ipython3",
   "version": "3.12.5"
  }
 },
 "nbformat": 4,
 "nbformat_minor": 2
}
