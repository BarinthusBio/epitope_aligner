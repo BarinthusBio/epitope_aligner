{
 "cells": [
  {
   "cell_type": "markdown",
   "metadata": {},
   "source": [
    "# Coordinate system\n",
    "To define where an epitope is in a sequence we use a start and end position.\n",
    "Different people count their starts and ends in different ways, and we can\n",
    "accomodate that. There are two things we need to know to understand an epitope\n",
    "location: what we start counting positions from (index) and\n",
    "do we include the end position in the epitope. Several `epimap` functions\n",
    "take these as arguments `index` and `includeend`.\n",
    "\n",
    "## `index`\n",
    "Do the position counts start at 0 or 1? If the first position in your protein is 0,\n",
    "that's a zero-index. If the first position is 1, that's a 1-index.\n",
    "\n",
    "Unless you've used zero indexes before, counting from 1 probably seems natural.\n",
    "But lots of programming languages use zero indexes. Luckily, with epimap you\n",
    "can use either. Just specify `index=0` or `index=1`. IEDB uses a 1-index,\n",
    "whereas normal python sequences use a 0-index.\n",
    "\n",
    "## `includeend`\n",
    "Do you want to include the end position in the epitope? Again it's probably\n",
    "natural for the end coordinate to be the last position in the epitope.\n",
    "But in python when you take a \"slice\" from start to end, you don't include\n",
    "the end position. In `epimap` functions you can specify whether your end\n",
    "coordinate is inclusive or not with the `includeend` argument which takes\n",
    "`True` or `False`.\n",
    "\n",
    "IEDB do include the end coordinate in the epitope, whereas normal python slicing\n",
    "does not. This means if there is an IEDB epitope \"CDE\" starting at position 3\n",
    "and ending at position 5 (using IEDB coordinates) in sequence \"abcdefg\", and\n",
    "you ask python to slice position 3:5, you will not get the correct epitope sequence.\n"
   ]
  },
  {
   "cell_type": "code",
   "execution_count": 3,
   "metadata": {},
   "outputs": [
    {
     "data": {
      "text/plain": [
       "'DE'"
      ]
     },
     "execution_count": 3,
     "metadata": {},
     "output_type": "execute_result"
    }
   ],
   "source": [
    "sequence = \"abCDEfg\"\n",
    "start = 3\n",
    "end = 5\n",
    "sequence[start:end]"
   ]
  },
  {
   "cell_type": "markdown",
   "metadata": {},
   "source": [
    "This error happens because in python terms the epitope starts at position 2 (because of the zero-index)\n",
    "and ends at position 5 (because the end position is not included in the epitope)."
   ]
  },
  {
   "cell_type": "code",
   "execution_count": 4,
   "metadata": {},
   "outputs": [
    {
     "data": {
      "text/plain": [
       "'CDE'"
      ]
     },
     "execution_count": 4,
     "metadata": {},
     "output_type": "execute_result"
    }
   ],
   "source": [
    "sequence[2:5]"
   ]
  },
  {
   "cell_type": "markdown",
   "metadata": {},
   "source": []
  }
 ],
 "metadata": {
  "kernelspec": {
   "display_name": ".venv",
   "language": "python",
   "name": "python3"
  },
  "language_info": {
   "codemirror_mode": {
    "name": "ipython",
    "version": 3
   },
   "file_extension": ".py",
   "mimetype": "text/x-python",
   "name": "python",
   "nbconvert_exporter": "python",
   "pygments_lexer": "ipython3",
   "version": "3.12.0"
  }
 },
 "nbformat": 4,
 "nbformat_minor": 2
}
