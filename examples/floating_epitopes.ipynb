{
 "cells": [
  {
   "cell_type": "markdown",
   "metadata": {},
   "source": [
    "# Float peptides\n",
    "If you have epitope coordinates, you can easily \"float\" your epitopes so they\n",
    "match up with the parent sequence. This function simply adds the number of gaps\n",
    "to the start of your epitope sequence."
   ]
  },
  {
   "cell_type": "markdown",
   "metadata": {},
   "source": [
    "Let's generate a random sequence and some random epitopes. We're using `index=1`, which means the first position in the sequence is 1."
   ]
  },
  {
   "cell_type": "code",
   "execution_count": 2,
   "metadata": {},
   "outputs": [
    {
     "name": "stdout",
     "output_type": "stream",
     "text": [
      "PCTACWPVHY\n"
     ]
    },
    {
     "data": {
      "text/html": [
       "<div>\n",
       "<style scoped>\n",
       "    .dataframe tbody tr th:only-of-type {\n",
       "        vertical-align: middle;\n",
       "    }\n",
       "\n",
       "    .dataframe tbody tr th {\n",
       "        vertical-align: top;\n",
       "    }\n",
       "\n",
       "    .dataframe thead th {\n",
       "        text-align: right;\n",
       "    }\n",
       "</style>\n",
       "<table border=\"1\" class=\"dataframe\">\n",
       "  <thead>\n",
       "    <tr style=\"text-align: right;\">\n",
       "      <th></th>\n",
       "      <th>start</th>\n",
       "      <th>end</th>\n",
       "      <th>seq</th>\n",
       "      <th>length</th>\n",
       "    </tr>\n",
       "  </thead>\n",
       "  <tbody>\n",
       "    <tr>\n",
       "      <th>0</th>\n",
       "      <td>2</td>\n",
       "      <td>5</td>\n",
       "      <td>CTAC</td>\n",
       "      <td>4</td>\n",
       "    </tr>\n",
       "    <tr>\n",
       "      <th>1</th>\n",
       "      <td>7</td>\n",
       "      <td>10</td>\n",
       "      <td>PVHY</td>\n",
       "      <td>4</td>\n",
       "    </tr>\n",
       "    <tr>\n",
       "      <th>2</th>\n",
       "      <td>7</td>\n",
       "      <td>10</td>\n",
       "      <td>PVHY</td>\n",
       "      <td>4</td>\n",
       "    </tr>\n",
       "    <tr>\n",
       "      <th>3</th>\n",
       "      <td>4</td>\n",
       "      <td>9</td>\n",
       "      <td>ACWPVH</td>\n",
       "      <td>6</td>\n",
       "    </tr>\n",
       "    <tr>\n",
       "      <th>4</th>\n",
       "      <td>7</td>\n",
       "      <td>10</td>\n",
       "      <td>PVHY</td>\n",
       "      <td>4</td>\n",
       "    </tr>\n",
       "  </tbody>\n",
       "</table>\n",
       "</div>"
      ],
      "text/plain": [
       "   start  end     seq  length\n",
       "0      2    5    CTAC       4\n",
       "1      7   10    PVHY       4\n",
       "2      7   10    PVHY       4\n",
       "3      4    9  ACWPVH       6\n",
       "4      7   10    PVHY       4"
      ]
     },
     "execution_count": 2,
     "metadata": {},
     "output_type": "execute_result"
    }
   ],
   "source": [
    "import pandas as pd\n",
    "from epimap import map, utils\n",
    "\n",
    "#Define an example sequence and set of epitopes\n",
    "sequence = utils.random_seq(10)\n",
    "epitopes = utils.random_epitopes(sequence, n=5, epitope_lengths=(3,6), index=1, includeend=True)\n",
    "print(sequence)\n",
    "epitopes"
   ]
  },
  {
   "cell_type": "markdown",
   "metadata": {},
   "source": [
    "Float the epitope sequences so they would be in the correct location in\n",
    "an alignment. Note that have to tell `float_peptides` that `index=1`.\n"
   ]
  },
  {
   "cell_type": "code",
   "execution_count": 3,
   "metadata": {},
   "outputs": [
    {
     "name": "stdout",
     "output_type": "stream",
     "text": [
      "PCTACWPVHY\n",
      "-CTAC\n",
      "------PVHY\n",
      "------PVHY\n",
      "---ACWPVH\n",
      "------PVHY\n"
     ]
    }
   ],
   "source": [
    "print(sequence)\n",
    "for epi in map.float_peptides(epitopes, index=1):\n",
    "    print(epi)\n"
   ]
  },
  {
   "cell_type": "markdown",
   "metadata": {},
   "source": [
    "If you use `id_col` to specify a column of the epitope dataframe, `float_peptides()`\n",
    "will return a list of Biopython SeqRecords. This can be saved out as a fasta or other\n",
    "type of sequence alignment file."
   ]
  },
  {
   "cell_type": "code",
   "execution_count": 4,
   "metadata": {},
   "outputs": [
    {
     "name": "stdout",
     "output_type": "stream",
     "text": [
      "  name  start  end  seq\n",
      "0    A    1.0    4  abc\n",
      "1    B    2.0    5  bcd\n",
      "2    C    3.0    6  cde\n",
      "3    D    4.0    7  def\n",
      "4    E    6.0    9  fgh\n"
     ]
    },
    {
     "data": {
      "text/plain": [
       "[SeqRecord(seq=Seq('abc'), id='A', name='<unknown name>', description='<unknown description>', dbxrefs=[]),\n",
       " SeqRecord(seq=Seq('-bcd'), id='B', name='<unknown name>', description='<unknown description>', dbxrefs=[]),\n",
       " SeqRecord(seq=Seq('--cde'), id='C', name='<unknown name>', description='<unknown description>', dbxrefs=[]),\n",
       " SeqRecord(seq=Seq('---def'), id='D', name='<unknown name>', description='<unknown description>', dbxrefs=[]),\n",
       " SeqRecord(seq=Seq('-----fgh'), id='E', name='<unknown name>', description='<unknown description>', dbxrefs=[])]"
      ]
     },
     "execution_count": 4,
     "metadata": {},
     "output_type": "execute_result"
    }
   ],
   "source": [
    "sequence = \"abcdefghi\"\n",
    "epitopes = pd.DataFrame(\n",
    "    {\n",
    "        'name': [\"A\", \"B\", \"C\", \"D\", \"E\"],\n",
    "        'start': [1.0,2,3,4,6],\n",
    "        'end': [4,5,6,7,9],\n",
    "        'seq': ['abc','bcd','cde','def','fgh']\n",
    "    }\n",
    ")\n",
    "print(epitopes)\n",
    "map.float_peptides(epitopes, index=1, id_col=\"name\")"
   ]
  },
  {
   "cell_type": "markdown",
   "metadata": {},
   "source": [
    "If your epitope positions use a zero index, the function call is the\n",
    "same except we set `index=0` when calling `float_peptides()`.\n",
    "We'll demonstrate this with another example using `index=0`."
   ]
  },
  {
   "cell_type": "code",
   "execution_count": 5,
   "metadata": {},
   "outputs": [
    {
     "name": "stdout",
     "output_type": "stream",
     "text": [
      "HQHYQMFRGN\n"
     ]
    },
    {
     "data": {
      "text/html": [
       "<div>\n",
       "<style scoped>\n",
       "    .dataframe tbody tr th:only-of-type {\n",
       "        vertical-align: middle;\n",
       "    }\n",
       "\n",
       "    .dataframe tbody tr th {\n",
       "        vertical-align: top;\n",
       "    }\n",
       "\n",
       "    .dataframe thead th {\n",
       "        text-align: right;\n",
       "    }\n",
       "</style>\n",
       "<table border=\"1\" class=\"dataframe\">\n",
       "  <thead>\n",
       "    <tr style=\"text-align: right;\">\n",
       "      <th></th>\n",
       "      <th>start</th>\n",
       "      <th>end</th>\n",
       "      <th>seq</th>\n",
       "      <th>length</th>\n",
       "    </tr>\n",
       "  </thead>\n",
       "  <tbody>\n",
       "    <tr>\n",
       "      <th>0</th>\n",
       "      <td>6</td>\n",
       "      <td>9</td>\n",
       "      <td>FRGN</td>\n",
       "      <td>4</td>\n",
       "    </tr>\n",
       "    <tr>\n",
       "      <th>1</th>\n",
       "      <td>1</td>\n",
       "      <td>6</td>\n",
       "      <td>QHYQMF</td>\n",
       "      <td>6</td>\n",
       "    </tr>\n",
       "    <tr>\n",
       "      <th>2</th>\n",
       "      <td>2</td>\n",
       "      <td>5</td>\n",
       "      <td>HYQM</td>\n",
       "      <td>4</td>\n",
       "    </tr>\n",
       "    <tr>\n",
       "      <th>3</th>\n",
       "      <td>5</td>\n",
       "      <td>9</td>\n",
       "      <td>MFRGN</td>\n",
       "      <td>5</td>\n",
       "    </tr>\n",
       "    <tr>\n",
       "      <th>4</th>\n",
       "      <td>5</td>\n",
       "      <td>9</td>\n",
       "      <td>MFRGN</td>\n",
       "      <td>5</td>\n",
       "    </tr>\n",
       "  </tbody>\n",
       "</table>\n",
       "</div>"
      ],
      "text/plain": [
       "   start  end     seq  length\n",
       "0      6    9    FRGN       4\n",
       "1      1    6  QHYQMF       6\n",
       "2      2    5    HYQM       4\n",
       "3      5    9   MFRGN       5\n",
       "4      5    9   MFRGN       5"
      ]
     },
     "execution_count": 5,
     "metadata": {},
     "output_type": "execute_result"
    }
   ],
   "source": [
    "sequence = utils.random_seq(10)\n",
    "epitopes = utils.random_epitopes(sequence, n=5, epitope_lengths=(3,6), index=0, includeend=True)\n",
    "print(sequence)\n",
    "epitopes"
   ]
  },
  {
   "cell_type": "code",
   "execution_count": 6,
   "metadata": {},
   "outputs": [
    {
     "name": "stdout",
     "output_type": "stream",
     "text": [
      "HQHYQMFRGN\n",
      "------FRGN\n",
      "-QHYQMF\n",
      "--HYQM\n",
      "-----MFRGN\n",
      "-----MFRGN\n"
     ]
    }
   ],
   "source": [
    "print(sequence)\n",
    "for epi in map.float_peptides(epitopes, index=0):\n",
    "    print(epi)\n"
   ]
  },
  {
   "cell_type": "markdown",
   "metadata": {},
   "source": [
    "If your epitope table doesn't use \"start\" and \"seq\" columns\n",
    "you can set custom column names"
   ]
  },
  {
   "cell_type": "code",
   "execution_count": 7,
   "metadata": {},
   "outputs": [
    {
     "data": {
      "text/html": [
       "<div>\n",
       "<style scoped>\n",
       "    .dataframe tbody tr th:only-of-type {\n",
       "        vertical-align: middle;\n",
       "    }\n",
       "\n",
       "    .dataframe tbody tr th {\n",
       "        vertical-align: top;\n",
       "    }\n",
       "\n",
       "    .dataframe thead th {\n",
       "        text-align: right;\n",
       "    }\n",
       "</style>\n",
       "<table border=\"1\" class=\"dataframe\">\n",
       "  <thead>\n",
       "    <tr style=\"text-align: right;\">\n",
       "      <th></th>\n",
       "      <th>START</th>\n",
       "      <th>END</th>\n",
       "      <th>SEQ</th>\n",
       "      <th>LENGTH</th>\n",
       "    </tr>\n",
       "  </thead>\n",
       "  <tbody>\n",
       "    <tr>\n",
       "      <th>0</th>\n",
       "      <td>6</td>\n",
       "      <td>9</td>\n",
       "      <td>FRGN</td>\n",
       "      <td>4</td>\n",
       "    </tr>\n",
       "    <tr>\n",
       "      <th>1</th>\n",
       "      <td>1</td>\n",
       "      <td>6</td>\n",
       "      <td>QHYQMF</td>\n",
       "      <td>6</td>\n",
       "    </tr>\n",
       "    <tr>\n",
       "      <th>2</th>\n",
       "      <td>2</td>\n",
       "      <td>5</td>\n",
       "      <td>HYQM</td>\n",
       "      <td>4</td>\n",
       "    </tr>\n",
       "    <tr>\n",
       "      <th>3</th>\n",
       "      <td>5</td>\n",
       "      <td>9</td>\n",
       "      <td>MFRGN</td>\n",
       "      <td>5</td>\n",
       "    </tr>\n",
       "    <tr>\n",
       "      <th>4</th>\n",
       "      <td>5</td>\n",
       "      <td>9</td>\n",
       "      <td>MFRGN</td>\n",
       "      <td>5</td>\n",
       "    </tr>\n",
       "  </tbody>\n",
       "</table>\n",
       "</div>"
      ],
      "text/plain": [
       "   START  END     SEQ  LENGTH\n",
       "0      6    9    FRGN       4\n",
       "1      1    6  QHYQMF       6\n",
       "2      2    5    HYQM       4\n",
       "3      5    9   MFRGN       5\n",
       "4      5    9   MFRGN       5"
      ]
     },
     "execution_count": 7,
     "metadata": {},
     "output_type": "execute_result"
    }
   ],
   "source": [
    "epitopes = epitopes.copy()\n",
    "epitopes.columns = [c.upper() for c in epitopes.columns]\n",
    "epitopes"
   ]
  },
  {
   "cell_type": "code",
   "execution_count": 8,
   "metadata": {},
   "outputs": [
    {
     "data": {
      "text/plain": [
       "['------FRGN', '-QHYQMF', '--HYQM', '-----MFRGN', '-----MFRGN']"
      ]
     },
     "execution_count": 8,
     "metadata": {},
     "output_type": "execute_result"
    }
   ],
   "source": [
    "map.float_peptides(epitopes, start_col=\"START\", seq_col=\"SEQ\", index=0)\n"
   ]
  },
  {
   "cell_type": "markdown",
   "metadata": {},
   "source": [
    "## Alignment accuracy\n",
    "You can score how well a floating epitopes matches it's parent sequence.\n",
    "This is useful to identify epitopes that don't match their parent sequence,\n",
    "or low scores can indicate the wrong index.\n",
    "\n",
    "The alignment score can be calculated with `score_epitope_alignment()`.\n",
    "This function takes a floating epitope sequence, and the parent sequence.\n",
    "It returns a tuple, first element is the proportion of matches.\n",
    "Second element is a list of booleans for matches."
   ]
  },
  {
   "cell_type": "code",
   "execution_count": 17,
   "metadata": {},
   "outputs": [
    {
     "name": "stdout",
     "output_type": "stream",
     "text": [
      "YHEQWWNCTR\n",
      "-----WNCTR\n"
     ]
    },
    {
     "data": {
      "text/plain": [
       "(1.0, [True, True, True, True, True])"
      ]
     },
     "execution_count": 17,
     "metadata": {},
     "output_type": "execute_result"
    }
   ],
   "source": [
    "sequence = utils.random_seq(10)\n",
    "epitopes = utils.random_epitopes(sequence, 5, epitope_lengths=(3,6), index=1, includeend=True)\n",
    "floating_epitopes = map.float_peptides(epitopes, index=1)\n",
    "\n",
    "epitope = floating_epitopes[-1]\n",
    "print(sequence)\n",
    "print(epitope)\n",
    "\n",
    "map.score_epitope_alignment(epitope, sequence)"
   ]
  },
  {
   "cell_type": "markdown",
   "metadata": {},
   "source": [
    "Use list comprehension to calculate the score for all epitopes"
   ]
  },
  {
   "cell_type": "code",
   "execution_count": null,
   "metadata": {},
   "outputs": [
    {
     "data": {
      "text/plain": [
       "[(1.0, [True, True, True, True, True, True]),\n",
       " (1.0, [True, True, True, True, True]),\n",
       " (1.0, [True, True, True, True]),\n",
       " (1.0, [True, True, True, True]),\n",
       " (1.0, [True, True, True, True, True])]"
      ]
     },
     "execution_count": 18,
     "metadata": {},
     "output_type": "execute_result"
    }
   ],
   "source": [
    "[map.score_epitope_alignment(epi, sequence) for epi in floating_epitopes]\n"
   ]
  },
  {
   "cell_type": "markdown",
   "metadata": {},
   "source": [
    "## Locate epitopes\n",
    "Given an epitopes that has been aligned to a parent sequence, for example the output of `float_peptides`,\n",
    "what are the coordinates of the epitopes in that alignment?\n",
    "\n",
    "We can use `locate_epitopes()` for this. It returns the first and last non-gap positions for each epitope.\n",
    "With the arguments `index` and `includeend` we can set which coordinate system we want to use.\n",
    "\n",
    "Let's demonstrate with an example set of aligned epitopes."
   ]
  },
  {
   "cell_type": "code",
   "execution_count": 24,
   "metadata": {},
   "outputs": [
    {
     "name": "stdout",
     "output_type": "stream",
     "text": [
      "abc\n",
      "--cdef\n",
      "-----fghi\n",
      "--cdef---\n",
      "--cd-f---\n"
     ]
    }
   ],
   "source": [
    "import re\n",
    "import pandas as pd\n",
    "from epimap import map\n",
    "from Bio.Seq import Seq \n",
    "from Bio.SeqRecord import SeqRecord\n",
    "\n",
    "epi1 = SeqRecord(Seq(\"abc\"), description=\"epi1\")\n",
    "epi2 = SeqRecord(Seq(\"--cdef\"), description=\"epi2\")\n",
    "epi3 = SeqRecord(Seq(\"-----fghi\"), description=\"epi3\")\n",
    "epi4 = SeqRecord(Seq(\"--cdef---\"), description=\"epi4\")\n",
    "epi5 = SeqRecord(Seq(\"--cd-f---\"), description=\"epi5\")\n",
    "\n",
    "al = [\n",
    "    epi1, epi2, epi3, epi4, epi5\n",
    "]\n",
    "for r in al:\n",
    "    print(r.seq)\n"
   ]
  },
  {
   "cell_type": "markdown",
   "metadata": {},
   "source": [
    "We create a table of the aligned sequences."
   ]
  },
  {
   "cell_type": "code",
   "execution_count": 26,
   "metadata": {},
   "outputs": [
    {
     "data": {
      "text/html": [
       "<div>\n",
       "<style scoped>\n",
       "    .dataframe tbody tr th:only-of-type {\n",
       "        vertical-align: middle;\n",
       "    }\n",
       "\n",
       "    .dataframe tbody tr th {\n",
       "        vertical-align: top;\n",
       "    }\n",
       "\n",
       "    .dataframe thead th {\n",
       "        text-align: right;\n",
       "    }\n",
       "</style>\n",
       "<table border=\"1\" class=\"dataframe\">\n",
       "  <thead>\n",
       "    <tr style=\"text-align: right;\">\n",
       "      <th></th>\n",
       "      <th>description</th>\n",
       "      <th>peptide</th>\n",
       "      <th>seq</th>\n",
       "    </tr>\n",
       "  </thead>\n",
       "  <tbody>\n",
       "    <tr>\n",
       "      <th>0</th>\n",
       "      <td>epi1</td>\n",
       "      <td>abc</td>\n",
       "      <td>abc</td>\n",
       "    </tr>\n",
       "    <tr>\n",
       "      <th>1</th>\n",
       "      <td>epi2</td>\n",
       "      <td>cdef</td>\n",
       "      <td>--cdef</td>\n",
       "    </tr>\n",
       "    <tr>\n",
       "      <th>2</th>\n",
       "      <td>epi3</td>\n",
       "      <td>fghi</td>\n",
       "      <td>-----fghi</td>\n",
       "    </tr>\n",
       "    <tr>\n",
       "      <th>3</th>\n",
       "      <td>epi4</td>\n",
       "      <td>cdef</td>\n",
       "      <td>--cdef---</td>\n",
       "    </tr>\n",
       "    <tr>\n",
       "      <th>4</th>\n",
       "      <td>epi5</td>\n",
       "      <td>cdf</td>\n",
       "      <td>--cd-f---</td>\n",
       "    </tr>\n",
       "  </tbody>\n",
       "</table>\n",
       "</div>"
      ],
      "text/plain": [
       "  description peptide        seq\n",
       "0        epi1     abc        abc\n",
       "1        epi2    cdef     --cdef\n",
       "2        epi3    fghi  -----fghi\n",
       "3        epi4    cdef  --cdef---\n",
       "4        epi5     cdf  --cd-f---"
      ]
     },
     "execution_count": 26,
     "metadata": {},
     "output_type": "execute_result"
    }
   ],
   "source": [
    "al_df = pd.DataFrame({\n",
    "    'description': [r.description for r in al],\n",
    "    'peptide': [str(r.seq.replace(\"-\", \"\")) for r in al],\n",
    "    'seq': [str(r.seq) for r in al]\n",
    "})\n",
    "al_df"
   ]
  },
  {
   "cell_type": "markdown",
   "metadata": {},
   "source": [
    "Using the column of aligned sequences you can get their non-gap start and end coordinates.\n",
    "`located_peptide` returns a tuple of the start and end.\n",
    "We use this tuple to add start and end coordinates to the table.\n",
    "\n",
    "Note that you can use this for complex alignments where there are gaps in the epitope."
   ]
  },
  {
   "cell_type": "code",
   "execution_count": 29,
   "metadata": {},
   "outputs": [
    {
     "data": {
      "text/html": [
       "<div>\n",
       "<style scoped>\n",
       "    .dataframe tbody tr th:only-of-type {\n",
       "        vertical-align: middle;\n",
       "    }\n",
       "\n",
       "    .dataframe tbody tr th {\n",
       "        vertical-align: top;\n",
       "    }\n",
       "\n",
       "    .dataframe thead th {\n",
       "        text-align: right;\n",
       "    }\n",
       "</style>\n",
       "<table border=\"1\" class=\"dataframe\">\n",
       "  <thead>\n",
       "    <tr style=\"text-align: right;\">\n",
       "      <th></th>\n",
       "      <th>description</th>\n",
       "      <th>peptide</th>\n",
       "      <th>seq</th>\n",
       "      <th>start</th>\n",
       "      <th>end</th>\n",
       "    </tr>\n",
       "  </thead>\n",
       "  <tbody>\n",
       "    <tr>\n",
       "      <th>0</th>\n",
       "      <td>epi1</td>\n",
       "      <td>abc</td>\n",
       "      <td>abc</td>\n",
       "      <td>0</td>\n",
       "      <td>3</td>\n",
       "    </tr>\n",
       "    <tr>\n",
       "      <th>1</th>\n",
       "      <td>epi2</td>\n",
       "      <td>cdef</td>\n",
       "      <td>--cdef</td>\n",
       "      <td>2</td>\n",
       "      <td>6</td>\n",
       "    </tr>\n",
       "    <tr>\n",
       "      <th>2</th>\n",
       "      <td>epi3</td>\n",
       "      <td>fghi</td>\n",
       "      <td>-----fghi</td>\n",
       "      <td>5</td>\n",
       "      <td>9</td>\n",
       "    </tr>\n",
       "    <tr>\n",
       "      <th>3</th>\n",
       "      <td>epi4</td>\n",
       "      <td>cdef</td>\n",
       "      <td>--cdef---</td>\n",
       "      <td>2</td>\n",
       "      <td>6</td>\n",
       "    </tr>\n",
       "    <tr>\n",
       "      <th>4</th>\n",
       "      <td>epi5</td>\n",
       "      <td>cdf</td>\n",
       "      <td>--cd-f---</td>\n",
       "      <td>2</td>\n",
       "      <td>6</td>\n",
       "    </tr>\n",
       "  </tbody>\n",
       "</table>\n",
       "</div>"
      ],
      "text/plain": [
       "  description peptide        seq  start  end\n",
       "0        epi1     abc        abc      0    3\n",
       "1        epi2    cdef     --cdef      2    6\n",
       "2        epi3    fghi  -----fghi      5    9\n",
       "3        epi4    cdef  --cdef---      2    6\n",
       "4        epi5     cdf  --cd-f---      2    6"
      ]
     },
     "execution_count": 29,
     "metadata": {},
     "output_type": "execute_result"
    }
   ],
   "source": [
    "pos = al_df.seq.apply(map.locate_peptide, index=0, includeend=False)\n",
    "al_df[['start','end']] = pd.DataFrame(pos.tolist())\n",
    "\n",
    "al_df"
   ]
  },
  {
   "cell_type": "code",
   "execution_count": 33,
   "metadata": {},
   "outputs": [
    {
     "data": {
      "text/plain": [
       "0    (1, 3)\n",
       "1    (3, 6)\n",
       "2    (6, 9)\n",
       "3    (3, 6)\n",
       "4    (3, 6)\n",
       "Name: seq, dtype: object"
      ]
     },
     "execution_count": 33,
     "metadata": {},
     "output_type": "execute_result"
    }
   ],
   "source": [
    "# Python uses zero indexes and slicing that doesn't include\n",
    "# the end position. However, you can use the IEDB\n",
    "# format if you'd like\n",
    "al_df.seq.apply(map.locate_peptide, index=1, includeend=True)\n"
   ]
  },
  {
   "cell_type": "code",
   "execution_count": null,
   "metadata": {},
   "outputs": [],
   "source": []
  }
 ],
 "metadata": {
  "kernelspec": {
   "display_name": ".venv",
   "language": "python",
   "name": "python3"
  },
  "language_info": {
   "codemirror_mode": {
    "name": "ipython",
    "version": 3
   },
   "file_extension": ".py",
   "mimetype": "text/x-python",
   "name": "python",
   "nbconvert_exporter": "python",
   "pygments_lexer": "ipython3",
   "version": "3.12.0"
  }
 },
 "nbformat": 4,
 "nbformat_minor": 2
}
