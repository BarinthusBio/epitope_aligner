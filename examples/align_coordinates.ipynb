{
 "cells": [
  {
   "cell_type": "markdown",
   "metadata": {},
   "source": [
    "# Align coordinates\n",
    "\n",
    "If we're looking at epitopes in several related sequences, we may want to\n",
    "align those sequences and analyse the epitopes in that alignment.\n",
    "To help with this `epimap` provides `align_coordinate()`,\n",
    "this function converts coordinates in an sequence without gaps to coordinates\n",
    "in an version of the same sequence with gaps."
   ]
  },
  {
   "cell_type": "code",
   "execution_count": 2,
   "metadata": {},
   "outputs": [],
   "source": [
    "\n",
    "import pandas as pd\n",
    "from epimap import map\n",
    "\n",
    "# The aligned version of our sequence\n",
    "aligned_seq = \"ABCD--FGHIJKL--OP--STUVWXYZ\"\n",
    "# The unaligned version\n",
    "seq = aligned_seq.replace(\"-\",\"\")\n",
    "\n",
    "# A table of epitopes in sequence, positions are relative to the\n",
    "# unaligned version\n",
    "epitopes = pd.DataFrame({\n",
    "        'start':[1,     4,      7,      10,     9,      11,     13],\n",
    "        'end':  [4,     8,      11,     14,     13,     15,     17],\n",
    "        'seq':  [\"BCD\", \"FGHI\", \"IJKL\", \"LOPS\", \"KLOP\", \"OPST\", \"STUV\"]\n",
    "})\n"
   ]
  },
  {
   "cell_type": "code",
   "execution_count": 3,
   "metadata": {
    "tags": [
     "hidden"
    ]
   },
   "outputs": [],
   "source": [
    "\n",
    "# epitope coords are correct\n",
    "assert all(epitopes.apply(lambda x: seq[x.start:x.end]==x.seq, axis=1))\n"
   ]
  },
  {
   "cell_type": "markdown",
   "metadata": {},
   "source": [
    "`align_coords()` takes an ungapped position, the sequence you would\n",
    "like it aligned in, and a counting index. It returns the equivalent position in that aligned sequence.\n",
    "Here position 4 in the unaligned sequence is equivalent to position 6\n",
    "in the aligned sequence\n"
   ]
  },
  {
   "cell_type": "code",
   "execution_count": 5,
   "metadata": {},
   "outputs": [
    {
     "name": "stdout",
     "output_type": "stream",
     "text": [
      "F is position 4 in seq\n",
      "F is position 6 in aligned_seq\n"
     ]
    }
   ],
   "source": [
    "i = 4\n",
    "j = map.align_coords(i, aligned_seq, index=0)\n",
    "print(f\"{seq[i]} is position {i} in seq\")\n",
    "print(f\"{aligned_seq[j]} is position {j} in aligned_seq\")\n"
   ]
  },
  {
   "cell_type": "markdown",
   "metadata": {},
   "source": [
    "\n",
    "A much faster way to use `align_coords()` is to `apply` it to several epitopes at once.\n"
   ]
  },
  {
   "cell_type": "code",
   "execution_count": 9,
   "metadata": {},
   "outputs": [
    {
     "name": "stdout",
     "output_type": "stream",
     "text": [
      "ABCD--FGHIJKL--OP--STUVWXYZ\n"
     ]
    },
    {
     "data": {
      "text/html": [
       "<div>\n",
       "<style scoped>\n",
       "    .dataframe tbody tr th:only-of-type {\n",
       "        vertical-align: middle;\n",
       "    }\n",
       "\n",
       "    .dataframe tbody tr th {\n",
       "        vertical-align: top;\n",
       "    }\n",
       "\n",
       "    .dataframe thead th {\n",
       "        text-align: right;\n",
       "    }\n",
       "</style>\n",
       "<table border=\"1\" class=\"dataframe\">\n",
       "  <thead>\n",
       "    <tr style=\"text-align: right;\">\n",
       "      <th></th>\n",
       "      <th>start</th>\n",
       "      <th>end</th>\n",
       "      <th>seq</th>\n",
       "      <th>newstart</th>\n",
       "      <th>newend</th>\n",
       "    </tr>\n",
       "  </thead>\n",
       "  <tbody>\n",
       "    <tr>\n",
       "      <th>0</th>\n",
       "      <td>1</td>\n",
       "      <td>4</td>\n",
       "      <td>BCD</td>\n",
       "      <td>1</td>\n",
       "      <td>6</td>\n",
       "    </tr>\n",
       "    <tr>\n",
       "      <th>1</th>\n",
       "      <td>4</td>\n",
       "      <td>8</td>\n",
       "      <td>FGHI</td>\n",
       "      <td>6</td>\n",
       "      <td>10</td>\n",
       "    </tr>\n",
       "    <tr>\n",
       "      <th>2</th>\n",
       "      <td>7</td>\n",
       "      <td>11</td>\n",
       "      <td>IJKL</td>\n",
       "      <td>9</td>\n",
       "      <td>15</td>\n",
       "    </tr>\n",
       "    <tr>\n",
       "      <th>3</th>\n",
       "      <td>10</td>\n",
       "      <td>14</td>\n",
       "      <td>LOPS</td>\n",
       "      <td>12</td>\n",
       "      <td>20</td>\n",
       "    </tr>\n",
       "    <tr>\n",
       "      <th>4</th>\n",
       "      <td>9</td>\n",
       "      <td>13</td>\n",
       "      <td>KLOP</td>\n",
       "      <td>11</td>\n",
       "      <td>19</td>\n",
       "    </tr>\n",
       "    <tr>\n",
       "      <th>5</th>\n",
       "      <td>11</td>\n",
       "      <td>15</td>\n",
       "      <td>OPST</td>\n",
       "      <td>15</td>\n",
       "      <td>21</td>\n",
       "    </tr>\n",
       "    <tr>\n",
       "      <th>6</th>\n",
       "      <td>13</td>\n",
       "      <td>17</td>\n",
       "      <td>STUV</td>\n",
       "      <td>19</td>\n",
       "      <td>23</td>\n",
       "    </tr>\n",
       "  </tbody>\n",
       "</table>\n",
       "</div>"
      ],
      "text/plain": [
       "   start  end   seq  newstart  newend\n",
       "0      1    4   BCD         1       6\n",
       "1      4    8  FGHI         6      10\n",
       "2      7   11  IJKL         9      15\n",
       "3     10   14  LOPS        12      20\n",
       "4      9   13  KLOP        11      19\n",
       "5     11   15  OPST        15      21\n",
       "6     13   17  STUV        19      23"
      ]
     },
     "execution_count": 9,
     "metadata": {},
     "output_type": "execute_result"
    }
   ],
   "source": [
    "epitopes['newstart'] = epitopes.start.apply(map.align_coords, aligned_seq=aligned_seq, index=0)\n",
    "epitopes['newend'] = epitopes.end.apply(map.align_coords, aligned_seq=aligned_seq, index=0)\n",
    "print(aligned_seq)\n",
    "epitopes"
   ]
  },
  {
   "cell_type": "markdown",
   "metadata": {},
   "source": [
    "We can verify that the new positions are correct by slicing these\n",
    "new coordinates from the `aligned_seq`. Note that python slicing\n",
    "uses a zero index, and does not include the end index. Our example\n",
    "positions follow this form, but if you are using a different index\n",
    "and/or including the end index, you will have to account for this\n",
    "in your slicing.M"
   ]
  },
  {
   "cell_type": "code",
   "execution_count": 11,
   "metadata": {},
   "outputs": [
    {
     "data": {
      "text/html": [
       "<div>\n",
       "<style scoped>\n",
       "    .dataframe tbody tr th:only-of-type {\n",
       "        vertical-align: middle;\n",
       "    }\n",
       "\n",
       "    .dataframe tbody tr th {\n",
       "        vertical-align: top;\n",
       "    }\n",
       "\n",
       "    .dataframe thead th {\n",
       "        text-align: right;\n",
       "    }\n",
       "</style>\n",
       "<table border=\"1\" class=\"dataframe\">\n",
       "  <thead>\n",
       "    <tr style=\"text-align: right;\">\n",
       "      <th></th>\n",
       "      <th>seq</th>\n",
       "      <th>aligned_seq</th>\n",
       "    </tr>\n",
       "  </thead>\n",
       "  <tbody>\n",
       "    <tr>\n",
       "      <th>0</th>\n",
       "      <td>BCD</td>\n",
       "      <td>BCD--</td>\n",
       "    </tr>\n",
       "    <tr>\n",
       "      <th>1</th>\n",
       "      <td>FGHI</td>\n",
       "      <td>FGHI</td>\n",
       "    </tr>\n",
       "    <tr>\n",
       "      <th>2</th>\n",
       "      <td>IJKL</td>\n",
       "      <td>IJKL--</td>\n",
       "    </tr>\n",
       "    <tr>\n",
       "      <th>3</th>\n",
       "      <td>LOPS</td>\n",
       "      <td>L--OP--S</td>\n",
       "    </tr>\n",
       "    <tr>\n",
       "      <th>4</th>\n",
       "      <td>KLOP</td>\n",
       "      <td>KL--OP--</td>\n",
       "    </tr>\n",
       "    <tr>\n",
       "      <th>5</th>\n",
       "      <td>OPST</td>\n",
       "      <td>OP--ST</td>\n",
       "    </tr>\n",
       "    <tr>\n",
       "      <th>6</th>\n",
       "      <td>STUV</td>\n",
       "      <td>STUV</td>\n",
       "    </tr>\n",
       "  </tbody>\n",
       "</table>\n",
       "</div>"
      ],
      "text/plain": [
       "    seq aligned_seq\n",
       "0   BCD       BCD--\n",
       "1  FGHI        FGHI\n",
       "2  IJKL      IJKL--\n",
       "3  LOPS    L--OP--S\n",
       "4  KLOP    KL--OP--\n",
       "5  OPST      OP--ST\n",
       "6  STUV        STUV"
      ]
     },
     "execution_count": 11,
     "metadata": {},
     "output_type": "execute_result"
    }
   ],
   "source": [
    "epitopes['aligned_seq'] = epitopes.apply(lambda x: aligned_seq[x.newstart:x.newend], axis=1)\n",
    "epitopes[['seq','aligned_seq']]\n"
   ]
  },
  {
   "cell_type": "markdown",
   "metadata": {},
   "source": [
    "## Unaligning coordinates\n",
    "You may want to go in the opposite direction if you have the\n",
    "epitope position in the aligned sequece, but want the position in the\n",
    "unaligned sequence."
   ]
  },
  {
   "cell_type": "code",
   "execution_count": 14,
   "metadata": {},
   "outputs": [
    {
     "name": "stdout",
     "output_type": "stream",
     "text": [
      "I is position 9 in aligned_seq\n",
      "I is position 7 in seq\n"
     ]
    }
   ],
   "source": [
    "j = 9\n",
    "i = map.unalign_coordinate(j, aligned_seq, index=0)\n",
    "\n",
    "print(f\"{aligned_seq[j]} is position {j} in aligned_seq\")\n",
    "print(f\"{seq[i]} is position {i} in seq\")"
   ]
  },
  {
   "cell_type": "markdown",
   "metadata": {},
   "source": [
    "As before, we can `apply` this to several epitopes at once.\n",
    "And verify that the unaligned positions match the original\n",
    "positions we started with. And again, if you use these positions\n",
    "to slice the sequences as we do here, be careful if you are not using\n",
    "the python standard of zero index and not including the last index of\n",
    "the slice."
   ]
  },
  {
   "cell_type": "code",
   "execution_count": 18,
   "metadata": {},
   "outputs": [
    {
     "data": {
      "text/html": [
       "<div>\n",
       "<style scoped>\n",
       "    .dataframe tbody tr th:only-of-type {\n",
       "        vertical-align: middle;\n",
       "    }\n",
       "\n",
       "    .dataframe tbody tr th {\n",
       "        vertical-align: top;\n",
       "    }\n",
       "\n",
       "    .dataframe thead th {\n",
       "        text-align: right;\n",
       "    }\n",
       "</style>\n",
       "<table border=\"1\" class=\"dataframe\">\n",
       "  <thead>\n",
       "    <tr style=\"text-align: right;\">\n",
       "      <th></th>\n",
       "      <th>seq</th>\n",
       "      <th>unaligned_seq</th>\n",
       "    </tr>\n",
       "  </thead>\n",
       "  <tbody>\n",
       "    <tr>\n",
       "      <th>0</th>\n",
       "      <td>BCD</td>\n",
       "      <td>BCD</td>\n",
       "    </tr>\n",
       "    <tr>\n",
       "      <th>1</th>\n",
       "      <td>FGHI</td>\n",
       "      <td>FGHI</td>\n",
       "    </tr>\n",
       "    <tr>\n",
       "      <th>2</th>\n",
       "      <td>IJKL</td>\n",
       "      <td>IJKL</td>\n",
       "    </tr>\n",
       "    <tr>\n",
       "      <th>3</th>\n",
       "      <td>LOPS</td>\n",
       "      <td>LOPS</td>\n",
       "    </tr>\n",
       "    <tr>\n",
       "      <th>4</th>\n",
       "      <td>KLOP</td>\n",
       "      <td>KLOP</td>\n",
       "    </tr>\n",
       "    <tr>\n",
       "      <th>5</th>\n",
       "      <td>OPST</td>\n",
       "      <td>OPST</td>\n",
       "    </tr>\n",
       "    <tr>\n",
       "      <th>6</th>\n",
       "      <td>STUV</td>\n",
       "      <td>STUV</td>\n",
       "    </tr>\n",
       "  </tbody>\n",
       "</table>\n",
       "</div>"
      ],
      "text/plain": [
       "    seq unaligned_seq\n",
       "0   BCD           BCD\n",
       "1  FGHI          FGHI\n",
       "2  IJKL          IJKL\n",
       "3  LOPS          LOPS\n",
       "4  KLOP          KLOP\n",
       "5  OPST          OPST\n",
       "6  STUV          STUV"
      ]
     },
     "execution_count": 18,
     "metadata": {},
     "output_type": "execute_result"
    }
   ],
   "source": [
    "epitopes['oldstart'] = epitopes.newstart.apply(map.unalign_coordinate, aligned_seq=aligned_seq, index=0)\n",
    "epitopes['oldend'] = epitopes.newend.apply(map.unalign_coordinate, aligned_seq=aligned_seq, index=0)\n",
    "epitopes[['start','oldstart','end','oldend']]\n",
    "\n",
    "epitopes['unaligned_seq'] = epitopes.apply(lambda x: seq[x.oldstart:x.oldend], axis=1)\n",
    "epitopes[['seq','unaligned_seq']]\n"
   ]
  },
  {
   "cell_type": "code",
   "execution_count": null,
   "metadata": {},
   "outputs": [],
   "source": []
  }
 ],
 "metadata": {
  "kernelspec": {
   "display_name": ".venv",
   "language": "python",
   "name": "python3"
  },
  "language_info": {
   "codemirror_mode": {
    "name": "ipython",
    "version": 3
   },
   "file_extension": ".py",
   "mimetype": "text/x-python",
   "name": "python",
   "nbconvert_exporter": "python",
   "pygments_lexer": "ipython3",
   "version": "3.12.0"
  }
 },
 "nbformat": 4,
 "nbformat_minor": 2
}
